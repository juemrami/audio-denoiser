{
 "cells": [
  {
   "cell_type": "code",
   "execution_count": 3,
   "metadata": {},
   "outputs": [
    {
     "name": "stderr",
     "output_type": "stream",
     "text": [
      "100%|██████████| 128/128 [00:02<00:00, 62.41it/s] \n"
     ]
    }
   ],
   "source": [
    "import librosa\n",
    "import numpy as np\n",
    "import soundfile as sf\n",
    "from tqdm import tqdm\n",
    "def SpectralSubtraction(filename, sr=16000, n_fft=512, hop_rate=0.5, vad_db=5, gamma=1.0, G=.6):\n",
    "    x, _ = librosa.load(filename, sr=sr)\n",
    "\n",
    "    hop = int(hop_rate*n_fft)         # hop size in samples\n",
    "\n",
    "    X = librosa.stft(x, n_fft=n_fft, hop_length=hop)\n",
    "    # setting default parameters\n",
    "    vad_db = 5       # VAD vad_dbhold in dB SNRseg\n",
    "    gamma = 1.0     # exp(gamma)\n",
    "    G = .6 #smoothing factor\n",
    "\n",
    "    noise_mean = np.zeros((n_fft//2+1))\n",
    "    for k in range(0, 5):\n",
    "        noise_mean = noise_mean + abs(X[:, k])\n",
    "\n",
    "    # noise estimate from first 5 frames\n",
    "    noise_mu = noise_mean / 5\n",
    "\n",
    "    # initialize various variables\n",
    "    img = 1j\n",
    "    X_out = np.zeros(X.shape, dtype=complex)\n",
    "\n",
    "    # main processing loop\n",
    "    for n in tqdm(range(0, X.shape[1])):\n",
    "        # extract a frame\n",
    "        signal_spec = X[:, n]\n",
    "        # compute the magnitude\n",
    "        signal_magnitude = abs(signal_spec)\n",
    "        # save the noisy phase information\n",
    "        theta = np.angle(signal_spec)\n",
    "        #  compute segmental SNR for VAD\n",
    "        SNRseg = 10 * np.log10(np.linalg.norm(signal_magnitude, 2) ** 2 / np.linalg.norm(noise_mu, 2) ** 2)\n",
    "\n",
    "        # perform the spectral subtraction\n",
    "        clean_signal_magnitude = signal_magnitude ** gamma - noise_mu ** gamma\n",
    "\n",
    "        # halfwave rectification (zero out negative values)\n",
    "        clean_signal_magnitude = np.maximum(clean_signal_magnitude, 0)\n",
    "\n",
    "        # compute a Priori SNR (used)\n",
    "        SNRpri = 10 * np.log10(np.linalg.norm(clean_signal_magnitude, 2) ** 2 / np.linalg.norm(noise_mu, 2) ** 2)\n",
    "\n",
    "        # parameter band dependent oversubtraction factor\n",
    "        mu_max = 20\n",
    "        mu_to_plus, mu_to_min = 1, mu_max\n",
    "        mu_slope = ((mu_to_min - mu_to_plus) * mu_max) / 25\n",
    "        mu_0 = mu_to_plus + 20*mu_slope\n",
    "        def get_alpha(SNR):\n",
    "            if SNR >= 20:\n",
    "                 return mu_to_plus\n",
    "            elif -5.0 <= SNR <= 20.0:\n",
    "                return mu_0 - SNR*mu_slope\n",
    "            else: return mu_to_min\n",
    "        alpha = get_alpha(SNRpri) \n",
    "\n",
    "        # 2 gain function G\n",
    "        # This is essentially the inverse Wiener Filter\n",
    "        G_i = clean_signal_magnitude ** 2 / (clean_signal_magnitude ** 2 + alpha * noise_mu ** 2)\n",
    "        \n",
    "        wf_speech = G_i * signal_magnitude\n",
    "\n",
    "        # --- implement a simple VAD detector --- #\n",
    "        if SNRseg < vad_db:  # Update noise spectrum\n",
    "            noise_temp = G * noise_mu ** gamma + (1 - G) * signal_magnitude ** gamma  # noise power spectrum smoothing\n",
    "            noise_mu = noise_temp ** (1 / gamma)  # New noise amplitude spectrum\n",
    "            clean_signal_magnitude = .2*signal_magnitude  # suppress the signal    \n",
    "        # add phase    \n",
    "        phased_clean_signal = (wf_speech ** (1 / gamma)) * np.exp(img * theta)       \n",
    "        # store the output\n",
    "        X_out[:, n] = phased_clean_signal\n",
    "        signal = librosa.istft(X_out, hop_length=hop, n_fft=n_fft)\n",
    "        outfile = filename.split('.')[0] + '_denoised.wav'\n",
    "        sf.write(outfile, signal, sr)\n",
    "        # return list(signal)\n",
    "SpectralSubtraction('test.wav') "
   ]
  }
 ],
 "metadata": {
  "kernelspec": {
   "display_name": "Python 3",
   "language": "python",
   "name": "python3"
  },
  "language_info": {
   "codemirror_mode": {
    "name": "ipython",
    "version": 3
   },
   "file_extension": ".py",
   "mimetype": "text/x-python",
   "name": "python",
   "nbconvert_exporter": "python",
   "pygments_lexer": "ipython3",
   "version": "3.9.2"
  },
  "orig_nbformat": 4,
  "vscode": {
   "interpreter": {
    "hash": "b41e41bff03a930185ac2cbea60ce521f7c8c2f5401ceb5c30214081f77ab4f5"
   }
  }
 },
 "nbformat": 4,
 "nbformat_minor": 2
}
