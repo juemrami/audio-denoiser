{
 "cells": [
  {
   "cell_type": "markdown",
   "metadata": {},
   "source": [
    "Should be signal in signal out."
   ]
  },
  {
   "cell_type": "code",
   "execution_count": 2,
   "metadata": {},
   "outputs": [],
   "source": [
    "# Helper functions\n",
    "import numpy as np\n",
    "import tensorflow as tf\n",
    "from keras import layers\n",
    "import keras as keras\n",
    "\n",
    "\n",
    "\n",
    "# GENERATE DILATED LAYER FROM 1D SIGNAL\n",
    "def signal_to_dilated(signal, dilation, n_channels):\n",
    "    shape = tf.shape(signal)\n",
    "    pad_elements = dilation - 1 - (shape[2] + dilation - 1) % dilation\n",
    "    dilated = tf.pad(signal, [[0, 0], [0, 0], [0, pad_elements], [0, 0]])\n",
    "    dilated = tf.reshape(dilated, [shape[0],-1,dilation,n_channels])\n",
    "    return tf.transpose(dilated, perm=[0,2,1,3]), pad_elements\n",
    "\n",
    "\n",
    "# COLLAPSE DILATED LAYER TO 1D SIGNAL\n",
    "def dilated_to_signal(dilated, pad_elements, n_channels):\n",
    "    shape = tf.shape(dilated)\n",
    "    signal = tf.transpose(dilated, perm=[0,2,1,3])\n",
    "    signal = tf.reshape(signal, [shape[0],1,-1,n_channels])\n",
    "    return signal[:,:,:shape[1]*shape[2]-pad_elements,:]\n",
    "\n",
    "\n",
    "# IDENTITY INITIALIZATION OF CONV LAYERS\n",
    "def identity_initializer():\n",
    "    def _initializer(shape, dtype=tf.float32, partition_info=None):\n",
    "        array = np.zeros(shape, dtype=float)\n",
    "        cx, cy = shape[0]//2, shape[1]//2\n",
    "        for i in range(np.minimum(shape[2],shape[3])):\n",
    "            array[cx, cy, i, i] = 1\n",
    "        return tf.constant(array, dtype=dtype)\n",
    "    return _initializer\n",
    "\n",
    "\n",
    "# “In our experiments, simple training losses (e.g., L1) led to noticeably degraded output quality at lower signal-to-noise ratios (SNRs).” ([Germain et al., 2018, p. 2](zotero://select/library/items/A6D78SNY)) ([pdf](zotero://open-pdf/library/items/P4HPP4P3?page=2&annotation=DZN467TR))\n",
    "def loss_function(target, current, type):\n",
    "    if type == 'L2':\n",
    "        return tf.reduce_mean(tf.square(target-current))"
   ]
  },
  {
   "cell_type": "markdown",
   "metadata": {},
   "source": [
    "“receptive field of the pipeline is 2^14 + 1 samples, i.e., about 1 s of audio for fs = 16 kHz.” ([Germain et al., 2018, p. 2](zotero://select/library/items/A6D78SNY)) ([pdf](zotero://open-pdf/library/items/P4HPP4P3?page=2&annotation=WTGLQ8JQ))"
   ]
  },
  {
   "cell_type": "code",
   "execution_count": 24,
   "metadata": {},
   "outputs": [],
   "source": [
    "# De-noising Network\n",
    "import numpy as np\n",
    "import tensorflow as tf\n",
    "from keras import layers\n",
    "class AdaptiveNormalization(tf.keras.layers.Layer):\n",
    "    def __init__(self, **kwargs):\n",
    "        super(AdaptiveNormalization, self).__init__(**kwargs)\n",
    "        self.alpha = tf.Variable(1.0, name='alpha')\n",
    "        self.beta = tf.Variable(0.0, name='beta')\n",
    "        self.batch_norm = tf.keras.layers.BatchNormalization()\n",
    "    def call(self, x):\n",
    "        return self.alpha * x + self.beta * self.batch_norm(x)\n",
    "# “point-wise nonlinear leaky rectified linear unit (LReLU) [28] max(0.2x, x)” \n",
    "# ([Germain et al., 2018, p. 2]\n",
    "def LeakyReLU(x):\n",
    "    return tf.maximum(0.2*x,x)\n",
    "\n",
    "n_layers=7 # num of internal layers\n",
    "n_channels=16 # number of feature maps (64 in paper)\n",
    "norm_type=\"AN\"\n",
    "\n",
    "if norm_type == \"AN\": # Adaptive Norm\n",
    "    norm_fn = AdaptiveNormalization\n",
    "elif norm_type == \"SBN\": # Std Batch Norm\n",
    "    norm_fn = layers.BatchNormalization\n",
    "else: # NO LAYER NORMALIZATION\n",
    "    norm_fn = None\n",
    "model_input = tf.keras.layers.Input(shape=(None, 1), dtype=tf.float32) # input is a single channel waveform (time, 1)\n",
    "input = tf.expand_dims(model_input, axis=-1) # add a conv feature dimension (batch, time, 1, features)\n",
    "input = tf.transpose(input, [0, 2, 1, 3]) # transpose to (batch, 1, time, features)\n",
    "for current_layer in range(n_layers):\n",
    "    if current_layer == 0:\n",
    "        net = tf.keras.layers.Conv2D(n_channels, kernel_size=[1, 3], activation=LeakyReLU,name='se_conv_%d' % current_layer,padding='SAME')(input)\n",
    "        # net = tf.keras.layers.Dropout(0.3)(net) # I added this dropout layer\n",
    "        net = norm_fn(name='se_norm_%d' % current_layer)(net)\n",
    "    else:\n",
    "        # The content of each intermediate layer is computed from the previous layer via a dilated convolution with 3 × 1 convolutional kernels\n",
    "        # “Here, we increase the dilation factor exponentially with depth from 2^0 for the 1st intermediate layer to 2^12 for the 13th one.” ([Germain et al., 2018, p. 2])\n",
    "        dilation_factor = 2 ** current_layer\n",
    "        net, pad_elements = signal_to_dilated(net, n_channels=n_channels, dilation=dilation_factor)\n",
    "        net = layers.Conv2D(n_channels, kernel_size=[1, 3], activation=LeakyReLU,name='se_conv_%d' % current_layer,padding='SAME')(net)\n",
    "        # net = tf.keras.layers.Dropout(0.2)(net) # I added this dropout layer\n",
    "        net = norm_fn(name='se_norm_%d' % current_layer)(net)\n",
    "        net = dilated_to_signal(net, n_channels=n_channels, pad_elements=pad_elements)\n",
    "net = layers.Conv2D(n_channels, kernel_size=[1, 3], activation=LeakyReLU, name='se_conv_last', padding='SAME')(net)\n",
    "net = norm_fn(name='se_norm_last')(net)\n",
    "net = layers.Conv2D(1, kernel_size=[1, 1], activation='sigmoid',\n",
    "                        name='se_fc_last', padding='SAME')(net)\n",
    "# undo the transpose and squeeze the feature dimension\n",
    "output = tf.squeeze(tf.transpose(net, [0, 2, 1, 3]), axis=-1)\n",
    "model = keras.Model(inputs=model_input, outputs=output)\n",
    "# model.summary()"
   ]
  },
  {
   "cell_type": "code",
   "execution_count": 25,
   "metadata": {},
   "outputs": [],
   "source": [
    "import numpy as np\n",
    "import os\n",
    "os.environ['XLA_FLAGS'] = '--xla=false'\n",
    "import tensorflow as tf\n",
    "data_path = os.path.join(os.getcwd(),'data')\n",
    "X = np.load(os.path.join(data_path, 'inputs_100_1000_signal.npy'), allow_pickle=True)\n",
    "X = tf.ragged.stack([tf.constant(x) for x in X], axis=0)\n",
    "X = tf.expand_dims(X, axis=-1)\n",
    "\n",
    "Y = np.load(os.path.join(data_path, 'targets_100_1000_signal.npy'), allow_pickle=True)\n",
    "Y = tf.ragged.stack([tf.constant(y) for y in Y], axis=0)\n",
    "Y = tf.expand_dims(Y, axis=-1)\n",
    "dataset = tf.data.Dataset.from_tensor_slices((X, Y))\n",
    "dataset = dataset.shuffle(seed=70, buffer_size=1000)\n",
    "data_size = dataset.cardinality().numpy()\n",
    "train_size = int(0.75 * data_size)\n",
    "\n",
    "train_set = dataset.take(train_size)\n",
    "val_set = dataset.skip(train_size)"
   ]
  },
  {
   "cell_type": "code",
   "execution_count": 26,
   "metadata": {},
   "outputs": [
    {
     "name": "stdout",
     "output_type": "stream",
     "text": [
      "[PhysicalDevice(name='/physical_device:GPU:0', device_type='GPU')]\n",
      "True\n",
      "/device:GPU:0\n",
      "WARNING:tensorflow:Inconsistent references when loading the checkpoint into this object graph. For example, in the saved checkpoint object, `model.layer.weight` and `model.layer_copy.weight` reference the same variable, while in the current object these are two different variables. The referenced variables are:(<__main__.AdaptiveNormalization object at 0x0000019A2C984280> and <keras.layers.core.tf_op_layer.TFOpLambda object at 0x0000019C05BB2F50>).\n"
     ]
    },
    {
     "name": "stderr",
     "output_type": "stream",
     "text": [
      "WARNING:tensorflow:Inconsistent references when loading the checkpoint into this object graph. For example, in the saved checkpoint object, `model.layer.weight` and `model.layer_copy.weight` reference the same variable, while in the current object these are two different variables. The referenced variables are:(<__main__.AdaptiveNormalization object at 0x0000019A2C984280> and <keras.layers.core.tf_op_layer.TFOpLambda object at 0x0000019C05BB2F50>).\n"
     ]
    },
    {
     "name": "stdout",
     "output_type": "stream",
     "text": [
      "WARNING:tensorflow:Inconsistent references when loading the checkpoint into this object graph. For example, in the saved checkpoint object, `model.layer.weight` and `model.layer_copy.weight` reference the same variable, while in the current object these are two different variables. The referenced variables are:(<keras.layers.convolutional.conv2d.Conv2D object at 0x0000019C05BB3310> and <__main__.AdaptiveNormalization object at 0x0000019C05BB2350>).\n"
     ]
    },
    {
     "name": "stderr",
     "output_type": "stream",
     "text": [
      "WARNING:tensorflow:Inconsistent references when loading the checkpoint into this object graph. For example, in the saved checkpoint object, `model.layer.weight` and `model.layer_copy.weight` reference the same variable, while in the current object these are two different variables. The referenced variables are:(<keras.layers.convolutional.conv2d.Conv2D object at 0x0000019C05BB3310> and <__main__.AdaptiveNormalization object at 0x0000019C05BB2350>).\n"
     ]
    },
    {
     "name": "stdout",
     "output_type": "stream",
     "text": [
      "WARNING:tensorflow:Inconsistent references when loading the checkpoint into this object graph. For example, in the saved checkpoint object, `model.layer.weight` and `model.layer_copy.weight` reference the same variable, while in the current object these are two different variables. The referenced variables are:(<__main__.AdaptiveNormalization object at 0x0000019C05BB2350> and <keras.layers.core.tf_op_layer.SlicingOpLambda object at 0x0000019BED7180A0>).\n"
     ]
    },
    {
     "name": "stderr",
     "output_type": "stream",
     "text": [
      "WARNING:tensorflow:Inconsistent references when loading the checkpoint into this object graph. For example, in the saved checkpoint object, `model.layer.weight` and `model.layer_copy.weight` reference the same variable, while in the current object these are two different variables. The referenced variables are:(<__main__.AdaptiveNormalization object at 0x0000019C05BB2350> and <keras.layers.core.tf_op_layer.SlicingOpLambda object at 0x0000019BED7180A0>).\n"
     ]
    },
    {
     "name": "stdout",
     "output_type": "stream",
     "text": [
      "WARNING:tensorflow:Inconsistent references when loading the checkpoint into this object graph. For example, in the saved checkpoint object, `model.layer.weight` and `model.layer_copy.weight` reference the same variable, while in the current object these are two different variables. The referenced variables are:(<keras.layers.convolutional.conv2d.Conv2D object at 0x0000019A018C42B0> and <keras.layers.core.tf_op_layer.TFOpLambda object at 0x0000019BEE0D7E20>).\n"
     ]
    },
    {
     "name": "stderr",
     "output_type": "stream",
     "text": [
      "WARNING:tensorflow:Inconsistent references when loading the checkpoint into this object graph. For example, in the saved checkpoint object, `model.layer.weight` and `model.layer_copy.weight` reference the same variable, while in the current object these are two different variables. The referenced variables are:(<keras.layers.convolutional.conv2d.Conv2D object at 0x0000019A018C42B0> and <keras.layers.core.tf_op_layer.TFOpLambda object at 0x0000019BEE0D7E20>).\n"
     ]
    },
    {
     "name": "stdout",
     "output_type": "stream",
     "text": [
      "WARNING:tensorflow:Inconsistent references when loading the checkpoint into this object graph. For example, in the saved checkpoint object, `model.layer.weight` and `model.layer_copy.weight` reference the same variable, while in the current object these are two different variables. The referenced variables are:(<__main__.AdaptiveNormalization object at 0x0000019C05BB2E60> and <keras.layers.core.tf_op_layer.SlicingOpLambda object at 0x0000019BEE0D5C30>).\n"
     ]
    },
    {
     "name": "stderr",
     "output_type": "stream",
     "text": [
      "WARNING:tensorflow:Inconsistent references when loading the checkpoint into this object graph. For example, in the saved checkpoint object, `model.layer.weight` and `model.layer_copy.weight` reference the same variable, while in the current object these are two different variables. The referenced variables are:(<__main__.AdaptiveNormalization object at 0x0000019C05BB2E60> and <keras.layers.core.tf_op_layer.SlicingOpLambda object at 0x0000019BEE0D5C30>).\n"
     ]
    },
    {
     "name": "stdout",
     "output_type": "stream",
     "text": [
      "WARNING:tensorflow:Inconsistent references when loading the checkpoint into this object graph. For example, in the saved checkpoint object, `model.layer.weight` and `model.layer_copy.weight` reference the same variable, while in the current object these are two different variables. The referenced variables are:(<keras.layers.convolutional.conv2d.Conv2D object at 0x0000019BF76E02E0> and <keras.layers.core.tf_op_layer.SlicingOpLambda object at 0x0000019BF8844CD0>).\n"
     ]
    },
    {
     "name": "stderr",
     "output_type": "stream",
     "text": [
      "WARNING:tensorflow:Inconsistent references when loading the checkpoint into this object graph. For example, in the saved checkpoint object, `model.layer.weight` and `model.layer_copy.weight` reference the same variable, while in the current object these are two different variables. The referenced variables are:(<keras.layers.convolutional.conv2d.Conv2D object at 0x0000019BF76E02E0> and <keras.layers.core.tf_op_layer.SlicingOpLambda object at 0x0000019BF8844CD0>).\n"
     ]
    },
    {
     "name": "stdout",
     "output_type": "stream",
     "text": [
      "WARNING:tensorflow:Inconsistent references when loading the checkpoint into this object graph. For example, in the saved checkpoint object, `model.layer.weight` and `model.layer_copy.weight` reference the same variable, while in the current object these are two different variables. The referenced variables are:(<__main__.AdaptiveNormalization object at 0x0000019BF2BC0F70> and <keras.layers.core.tf_op_layer.TFOpLambda object at 0x0000019C05BEAF80>).\n"
     ]
    },
    {
     "name": "stderr",
     "output_type": "stream",
     "text": [
      "WARNING:tensorflow:Inconsistent references when loading the checkpoint into this object graph. For example, in the saved checkpoint object, `model.layer.weight` and `model.layer_copy.weight` reference the same variable, while in the current object these are two different variables. The referenced variables are:(<__main__.AdaptiveNormalization object at 0x0000019BF2BC0F70> and <keras.layers.core.tf_op_layer.TFOpLambda object at 0x0000019C05BEAF80>).\n"
     ]
    },
    {
     "name": "stdout",
     "output_type": "stream",
     "text": [
      "WARNING:tensorflow:Inconsistent references when loading the checkpoint into this object graph. For example, in the saved checkpoint object, `model.layer.weight` and `model.layer_copy.weight` reference the same variable, while in the current object these are two different variables. The referenced variables are:(<keras.layers.convolutional.conv2d.Conv2D object at 0x0000019BF8847190> and <keras.layers.core.tf_op_layer.SlicingOpLambda object at 0x0000019BF516C220>).\n"
     ]
    },
    {
     "name": "stderr",
     "output_type": "stream",
     "text": [
      "WARNING:tensorflow:Inconsistent references when loading the checkpoint into this object graph. For example, in the saved checkpoint object, `model.layer.weight` and `model.layer_copy.weight` reference the same variable, while in the current object these are two different variables. The referenced variables are:(<keras.layers.convolutional.conv2d.Conv2D object at 0x0000019BF8847190> and <keras.layers.core.tf_op_layer.SlicingOpLambda object at 0x0000019BF516C220>).\n"
     ]
    },
    {
     "name": "stdout",
     "output_type": "stream",
     "text": [
      "WARNING:tensorflow:Inconsistent references when loading the checkpoint into this object graph. For example, in the saved checkpoint object, `model.layer.weight` and `model.layer_copy.weight` reference the same variable, while in the current object these are two different variables. The referenced variables are:(<__main__.AdaptiveNormalization object at 0x0000019BF8846440> and <keras.layers.core.tf_op_layer.SlicingOpLambda object at 0x0000019BF516D5A0>).\n"
     ]
    },
    {
     "name": "stderr",
     "output_type": "stream",
     "text": [
      "WARNING:tensorflow:Inconsistent references when loading the checkpoint into this object graph. For example, in the saved checkpoint object, `model.layer.weight` and `model.layer_copy.weight` reference the same variable, while in the current object these are two different variables. The referenced variables are:(<__main__.AdaptiveNormalization object at 0x0000019BF8846440> and <keras.layers.core.tf_op_layer.SlicingOpLambda object at 0x0000019BF516D5A0>).\n"
     ]
    },
    {
     "name": "stdout",
     "output_type": "stream",
     "text": [
      "WARNING:tensorflow:Inconsistent references when loading the checkpoint into this object graph. For example, in the saved checkpoint object, `model.layer.weight` and `model.layer_copy.weight` reference the same variable, while in the current object these are two different variables. The referenced variables are:(<keras.layers.convolutional.conv2d.Conv2D object at 0x0000019BF2BC00D0> and <keras.layers.core.tf_op_layer.TFOpLambda object at 0x0000019BF28488B0>).\n"
     ]
    },
    {
     "name": "stderr",
     "output_type": "stream",
     "text": [
      "WARNING:tensorflow:Inconsistent references when loading the checkpoint into this object graph. For example, in the saved checkpoint object, `model.layer.weight` and `model.layer_copy.weight` reference the same variable, while in the current object these are two different variables. The referenced variables are:(<keras.layers.convolutional.conv2d.Conv2D object at 0x0000019BF2BC00D0> and <keras.layers.core.tf_op_layer.TFOpLambda object at 0x0000019BF28488B0>).\n"
     ]
    },
    {
     "name": "stdout",
     "output_type": "stream",
     "text": [
      "WARNING:tensorflow:Inconsistent references when loading the checkpoint into this object graph. For example, in the saved checkpoint object, `model.layer.weight` and `model.layer_copy.weight` reference the same variable, while in the current object these are two different variables. The referenced variables are:(<__main__.AdaptiveNormalization object at 0x0000019BEE3B9C30> and <keras.layers.core.tf_op_layer.TFOpLambda object at 0x0000019BECBA8250>).\n"
     ]
    },
    {
     "name": "stderr",
     "output_type": "stream",
     "text": [
      "WARNING:tensorflow:Inconsistent references when loading the checkpoint into this object graph. For example, in the saved checkpoint object, `model.layer.weight` and `model.layer_copy.weight` reference the same variable, while in the current object these are two different variables. The referenced variables are:(<__main__.AdaptiveNormalization object at 0x0000019BEE3B9C30> and <keras.layers.core.tf_op_layer.TFOpLambda object at 0x0000019BECBA8250>).\n"
     ]
    },
    {
     "name": "stdout",
     "output_type": "stream",
     "text": [
      "WARNING:tensorflow:Inconsistent references when loading the checkpoint into this object graph. For example, in the saved checkpoint object, `model.layer.weight` and `model.layer_copy.weight` reference the same variable, while in the current object these are two different variables. The referenced variables are:(<keras.layers.convolutional.conv2d.Conv2D object at 0x0000019BF284A3B0> and <keras.layers.core.tf_op_layer.SlicingOpLambda object at 0x0000019C05BEAAD0>).\n"
     ]
    },
    {
     "name": "stderr",
     "output_type": "stream",
     "text": [
      "WARNING:tensorflow:Inconsistent references when loading the checkpoint into this object graph. For example, in the saved checkpoint object, `model.layer.weight` and `model.layer_copy.weight` reference the same variable, while in the current object these are two different variables. The referenced variables are:(<keras.layers.convolutional.conv2d.Conv2D object at 0x0000019BF284A3B0> and <keras.layers.core.tf_op_layer.SlicingOpLambda object at 0x0000019C05BEAAD0>).\n"
     ]
    },
    {
     "name": "stdout",
     "output_type": "stream",
     "text": [
      "WARNING:tensorflow:Inconsistent references when loading the checkpoint into this object graph. For example, in the saved checkpoint object, `model.layer.weight` and `model.layer_copy.weight` reference the same variable, while in the current object these are two different variables. The referenced variables are:(<__main__.AdaptiveNormalization object at 0x0000019C05BD0C40> and <keras.layers.core.tf_op_layer.TFOpLambda object at 0x0000019C05C0CEE0>).\n"
     ]
    },
    {
     "name": "stderr",
     "output_type": "stream",
     "text": [
      "WARNING:tensorflow:Inconsistent references when loading the checkpoint into this object graph. For example, in the saved checkpoint object, `model.layer.weight` and `model.layer_copy.weight` reference the same variable, while in the current object these are two different variables. The referenced variables are:(<__main__.AdaptiveNormalization object at 0x0000019C05BD0C40> and <keras.layers.core.tf_op_layer.TFOpLambda object at 0x0000019C05C0CEE0>).\n"
     ]
    },
    {
     "name": "stdout",
     "output_type": "stream",
     "text": [
      "Model loaded from:  c:\\Users\\Julio\\Documents\\Projects\\audio-denoiser\\saved\\models\\MSE2_FCNN_AN.model\n",
      "Epoch 1/150\n",
      "750/750 [==============================] - ETA: 0s - loss: 0.0191 - mse: 0.0191 - mae: 0.0693 - accuracy: 9.4179e-06\n",
      "Epoch 1: val_loss improved from inf to 0.00247, saving model to c:\\Users\\Julio\\Documents\\Projects\\audio-denoiser\\saved\\models\\MSE2_FCNN_AN.model\n",
      "WARNING:tensorflow:Detecting that an object or model or tf.train.Checkpoint is being deleted with unrestored values. See the following logs for the specific values in question. To silence these warnings, use `status.expect_partial()`. See https://www.tensorflow.org/api_docs/python/tf/train/Checkpoint#restorefor details about the status object returned by the restore function.\n"
     ]
    },
    {
     "name": "stderr",
     "output_type": "stream",
     "text": [
      "WARNING:tensorflow:Detecting that an object or model or tf.train.Checkpoint is being deleted with unrestored values. See the following logs for the specific values in question. To silence these warnings, use `status.expect_partial()`. See https://www.tensorflow.org/api_docs/python/tf/train/Checkpoint#restorefor details about the status object returned by the restore function.\n"
     ]
    },
    {
     "name": "stdout",
     "output_type": "stream",
     "text": [
      "WARNING:tensorflow:Value in checkpoint could not be found in the restored object: (root).keras_api.metrics.0.total\n"
     ]
    },
    {
     "name": "stderr",
     "output_type": "stream",
     "text": [
      "WARNING:tensorflow:Value in checkpoint could not be found in the restored object: (root).keras_api.metrics.0.total\n"
     ]
    },
    {
     "name": "stdout",
     "output_type": "stream",
     "text": [
      "WARNING:tensorflow:Value in checkpoint could not be found in the restored object: (root).keras_api.metrics.0.count\n"
     ]
    },
    {
     "name": "stderr",
     "output_type": "stream",
     "text": [
      "WARNING:tensorflow:Value in checkpoint could not be found in the restored object: (root).keras_api.metrics.0.count\n"
     ]
    },
    {
     "name": "stdout",
     "output_type": "stream",
     "text": [
      "WARNING:tensorflow:Value in checkpoint could not be found in the restored object: (root).keras_api.metrics.1.total\n"
     ]
    },
    {
     "name": "stderr",
     "output_type": "stream",
     "text": [
      "WARNING:tensorflow:Value in checkpoint could not be found in the restored object: (root).keras_api.metrics.1.total\n"
     ]
    },
    {
     "name": "stdout",
     "output_type": "stream",
     "text": [
      "WARNING:tensorflow:Value in checkpoint could not be found in the restored object: (root).keras_api.metrics.1.count\n"
     ]
    },
    {
     "name": "stderr",
     "output_type": "stream",
     "text": [
      "WARNING:tensorflow:Value in checkpoint could not be found in the restored object: (root).keras_api.metrics.1.count\n"
     ]
    },
    {
     "name": "stdout",
     "output_type": "stream",
     "text": [
      "WARNING:tensorflow:Value in checkpoint could not be found in the restored object: (root).keras_api.metrics.2.total\n"
     ]
    },
    {
     "name": "stderr",
     "output_type": "stream",
     "text": [
      "WARNING:tensorflow:Value in checkpoint could not be found in the restored object: (root).keras_api.metrics.2.total\n"
     ]
    },
    {
     "name": "stdout",
     "output_type": "stream",
     "text": [
      "WARNING:tensorflow:Value in checkpoint could not be found in the restored object: (root).keras_api.metrics.2.count\n"
     ]
    },
    {
     "name": "stderr",
     "output_type": "stream",
     "text": [
      "WARNING:tensorflow:Value in checkpoint could not be found in the restored object: (root).keras_api.metrics.2.count\n"
     ]
    },
    {
     "name": "stdout",
     "output_type": "stream",
     "text": [
      "WARNING:tensorflow:Value in checkpoint could not be found in the restored object: (root).keras_api.metrics.3.total\n"
     ]
    },
    {
     "name": "stderr",
     "output_type": "stream",
     "text": [
      "WARNING:tensorflow:Value in checkpoint could not be found in the restored object: (root).keras_api.metrics.3.total\n"
     ]
    },
    {
     "name": "stdout",
     "output_type": "stream",
     "text": [
      "WARNING:tensorflow:Value in checkpoint could not be found in the restored object: (root).keras_api.metrics.3.count\n"
     ]
    },
    {
     "name": "stderr",
     "output_type": "stream",
     "text": [
      "WARNING:tensorflow:Value in checkpoint could not be found in the restored object: (root).keras_api.metrics.3.count\n"
     ]
    },
    {
     "name": "stdout",
     "output_type": "stream",
     "text": [
      "WARNING:tensorflow:Detecting that an object or model or tf.train.Checkpoint is being deleted with unrestored values. See the following logs for the specific values in question. To silence these warnings, use `status.expect_partial()`. See https://www.tensorflow.org/api_docs/python/tf/train/Checkpoint#restorefor details about the status object returned by the restore function.\n"
     ]
    },
    {
     "name": "stderr",
     "output_type": "stream",
     "text": [
      "WARNING:tensorflow:Detecting that an object or model or tf.train.Checkpoint is being deleted with unrestored values. See the following logs for the specific values in question. To silence these warnings, use `status.expect_partial()`. See https://www.tensorflow.org/api_docs/python/tf/train/Checkpoint#restorefor details about the status object returned by the restore function.\n"
     ]
    },
    {
     "name": "stdout",
     "output_type": "stream",
     "text": [
      "WARNING:tensorflow:Value in checkpoint could not be found in the restored object: (root).keras_api.metrics.0.total\n"
     ]
    },
    {
     "name": "stderr",
     "output_type": "stream",
     "text": [
      "WARNING:tensorflow:Value in checkpoint could not be found in the restored object: (root).keras_api.metrics.0.total\n"
     ]
    },
    {
     "name": "stdout",
     "output_type": "stream",
     "text": [
      "WARNING:tensorflow:Value in checkpoint could not be found in the restored object: (root).keras_api.metrics.0.count\n"
     ]
    },
    {
     "name": "stderr",
     "output_type": "stream",
     "text": [
      "WARNING:tensorflow:Value in checkpoint could not be found in the restored object: (root).keras_api.metrics.0.count\n"
     ]
    },
    {
     "name": "stdout",
     "output_type": "stream",
     "text": [
      "WARNING:tensorflow:Value in checkpoint could not be found in the restored object: (root).keras_api.metrics.1.total\n"
     ]
    },
    {
     "name": "stderr",
     "output_type": "stream",
     "text": [
      "WARNING:tensorflow:Value in checkpoint could not be found in the restored object: (root).keras_api.metrics.1.total\n"
     ]
    },
    {
     "name": "stdout",
     "output_type": "stream",
     "text": [
      "WARNING:tensorflow:Value in checkpoint could not be found in the restored object: (root).keras_api.metrics.1.count\n"
     ]
    },
    {
     "name": "stderr",
     "output_type": "stream",
     "text": [
      "WARNING:tensorflow:Value in checkpoint could not be found in the restored object: (root).keras_api.metrics.1.count\n"
     ]
    },
    {
     "name": "stdout",
     "output_type": "stream",
     "text": [
      "WARNING:tensorflow:Value in checkpoint could not be found in the restored object: (root).keras_api.metrics.2.total\n"
     ]
    },
    {
     "name": "stderr",
     "output_type": "stream",
     "text": [
      "WARNING:tensorflow:Value in checkpoint could not be found in the restored object: (root).keras_api.metrics.2.total\n"
     ]
    },
    {
     "name": "stdout",
     "output_type": "stream",
     "text": [
      "WARNING:tensorflow:Value in checkpoint could not be found in the restored object: (root).keras_api.metrics.2.count\n"
     ]
    },
    {
     "name": "stderr",
     "output_type": "stream",
     "text": [
      "WARNING:tensorflow:Value in checkpoint could not be found in the restored object: (root).keras_api.metrics.2.count\n"
     ]
    },
    {
     "name": "stdout",
     "output_type": "stream",
     "text": [
      "WARNING:tensorflow:Value in checkpoint could not be found in the restored object: (root).keras_api.metrics.3.total\n"
     ]
    },
    {
     "name": "stderr",
     "output_type": "stream",
     "text": [
      "WARNING:tensorflow:Value in checkpoint could not be found in the restored object: (root).keras_api.metrics.3.total\n"
     ]
    },
    {
     "name": "stdout",
     "output_type": "stream",
     "text": [
      "WARNING:tensorflow:Value in checkpoint could not be found in the restored object: (root).keras_api.metrics.3.count\n"
     ]
    },
    {
     "name": "stderr",
     "output_type": "stream",
     "text": [
      "WARNING:tensorflow:Value in checkpoint could not be found in the restored object: (root).keras_api.metrics.3.count\n"
     ]
    },
    {
     "name": "stdout",
     "output_type": "stream",
     "text": [
      "WARNING:tensorflow:Detecting that an object or model or tf.train.Checkpoint is being deleted with unrestored values. See the following logs for the specific values in question. To silence these warnings, use `status.expect_partial()`. See https://www.tensorflow.org/api_docs/python/tf/train/Checkpoint#restorefor details about the status object returned by the restore function.\n"
     ]
    },
    {
     "name": "stderr",
     "output_type": "stream",
     "text": [
      "WARNING:tensorflow:Detecting that an object or model or tf.train.Checkpoint is being deleted with unrestored values. See the following logs for the specific values in question. To silence these warnings, use `status.expect_partial()`. See https://www.tensorflow.org/api_docs/python/tf/train/Checkpoint#restorefor details about the status object returned by the restore function.\n"
     ]
    },
    {
     "name": "stdout",
     "output_type": "stream",
     "text": [
      "WARNING:tensorflow:Value in checkpoint could not be found in the restored object: (root).keras_api.metrics.0.total\n"
     ]
    },
    {
     "name": "stderr",
     "output_type": "stream",
     "text": [
      "WARNING:tensorflow:Value in checkpoint could not be found in the restored object: (root).keras_api.metrics.0.total\n"
     ]
    },
    {
     "name": "stdout",
     "output_type": "stream",
     "text": [
      "WARNING:tensorflow:Value in checkpoint could not be found in the restored object: (root).keras_api.metrics.0.count\n"
     ]
    },
    {
     "name": "stderr",
     "output_type": "stream",
     "text": [
      "WARNING:tensorflow:Value in checkpoint could not be found in the restored object: (root).keras_api.metrics.0.count\n"
     ]
    },
    {
     "name": "stdout",
     "output_type": "stream",
     "text": [
      "WARNING:tensorflow:Value in checkpoint could not be found in the restored object: (root).keras_api.metrics.1.total\n"
     ]
    },
    {
     "name": "stderr",
     "output_type": "stream",
     "text": [
      "WARNING:tensorflow:Value in checkpoint could not be found in the restored object: (root).keras_api.metrics.1.total\n"
     ]
    },
    {
     "name": "stdout",
     "output_type": "stream",
     "text": [
      "WARNING:tensorflow:Value in checkpoint could not be found in the restored object: (root).keras_api.metrics.1.count\n"
     ]
    },
    {
     "name": "stderr",
     "output_type": "stream",
     "text": [
      "WARNING:tensorflow:Value in checkpoint could not be found in the restored object: (root).keras_api.metrics.1.count\n"
     ]
    },
    {
     "name": "stdout",
     "output_type": "stream",
     "text": [
      "WARNING:tensorflow:Value in checkpoint could not be found in the restored object: (root).keras_api.metrics.2.total\n"
     ]
    },
    {
     "name": "stderr",
     "output_type": "stream",
     "text": [
      "WARNING:tensorflow:Value in checkpoint could not be found in the restored object: (root).keras_api.metrics.2.total\n"
     ]
    },
    {
     "name": "stdout",
     "output_type": "stream",
     "text": [
      "WARNING:tensorflow:Value in checkpoint could not be found in the restored object: (root).keras_api.metrics.2.count\n"
     ]
    },
    {
     "name": "stderr",
     "output_type": "stream",
     "text": [
      "WARNING:tensorflow:Value in checkpoint could not be found in the restored object: (root).keras_api.metrics.2.count\n"
     ]
    },
    {
     "name": "stdout",
     "output_type": "stream",
     "text": [
      "WARNING:tensorflow:Value in checkpoint could not be found in the restored object: (root).keras_api.metrics.3.total\n"
     ]
    },
    {
     "name": "stderr",
     "output_type": "stream",
     "text": [
      "WARNING:tensorflow:Value in checkpoint could not be found in the restored object: (root).keras_api.metrics.3.total\n"
     ]
    },
    {
     "name": "stdout",
     "output_type": "stream",
     "text": [
      "WARNING:tensorflow:Value in checkpoint could not be found in the restored object: (root).keras_api.metrics.3.count\n"
     ]
    },
    {
     "name": "stderr",
     "output_type": "stream",
     "text": [
      "WARNING:tensorflow:Value in checkpoint could not be found in the restored object: (root).keras_api.metrics.3.count\n"
     ]
    },
    {
     "name": "stdout",
     "output_type": "stream",
     "text": [
      "WARNING:tensorflow:Detecting that an object or model or tf.train.Checkpoint is being deleted with unrestored values. See the following logs for the specific values in question. To silence these warnings, use `status.expect_partial()`. See https://www.tensorflow.org/api_docs/python/tf/train/Checkpoint#restorefor details about the status object returned by the restore function.\n"
     ]
    },
    {
     "name": "stderr",
     "output_type": "stream",
     "text": [
      "WARNING:tensorflow:Detecting that an object or model or tf.train.Checkpoint is being deleted with unrestored values. See the following logs for the specific values in question. To silence these warnings, use `status.expect_partial()`. See https://www.tensorflow.org/api_docs/python/tf/train/Checkpoint#restorefor details about the status object returned by the restore function.\n"
     ]
    },
    {
     "name": "stdout",
     "output_type": "stream",
     "text": [
      "WARNING:tensorflow:Value in checkpoint could not be found in the restored object: (root).keras_api.metrics.0.total\n"
     ]
    },
    {
     "name": "stderr",
     "output_type": "stream",
     "text": [
      "WARNING:tensorflow:Value in checkpoint could not be found in the restored object: (root).keras_api.metrics.0.total\n"
     ]
    },
    {
     "name": "stdout",
     "output_type": "stream",
     "text": [
      "WARNING:tensorflow:Value in checkpoint could not be found in the restored object: (root).keras_api.metrics.0.count\n"
     ]
    },
    {
     "name": "stderr",
     "output_type": "stream",
     "text": [
      "WARNING:tensorflow:Value in checkpoint could not be found in the restored object: (root).keras_api.metrics.0.count\n"
     ]
    },
    {
     "name": "stdout",
     "output_type": "stream",
     "text": [
      "WARNING:tensorflow:Value in checkpoint could not be found in the restored object: (root).keras_api.metrics.1.total\n"
     ]
    },
    {
     "name": "stderr",
     "output_type": "stream",
     "text": [
      "WARNING:tensorflow:Value in checkpoint could not be found in the restored object: (root).keras_api.metrics.1.total\n"
     ]
    },
    {
     "name": "stdout",
     "output_type": "stream",
     "text": [
      "WARNING:tensorflow:Value in checkpoint could not be found in the restored object: (root).keras_api.metrics.1.count\n"
     ]
    },
    {
     "name": "stderr",
     "output_type": "stream",
     "text": [
      "WARNING:tensorflow:Value in checkpoint could not be found in the restored object: (root).keras_api.metrics.1.count\n"
     ]
    },
    {
     "name": "stdout",
     "output_type": "stream",
     "text": [
      "WARNING:tensorflow:Value in checkpoint could not be found in the restored object: (root).keras_api.metrics.2.total\n"
     ]
    },
    {
     "name": "stderr",
     "output_type": "stream",
     "text": [
      "WARNING:tensorflow:Value in checkpoint could not be found in the restored object: (root).keras_api.metrics.2.total\n"
     ]
    },
    {
     "name": "stdout",
     "output_type": "stream",
     "text": [
      "WARNING:tensorflow:Value in checkpoint could not be found in the restored object: (root).keras_api.metrics.2.count\n"
     ]
    },
    {
     "name": "stderr",
     "output_type": "stream",
     "text": [
      "WARNING:tensorflow:Value in checkpoint could not be found in the restored object: (root).keras_api.metrics.2.count\n"
     ]
    },
    {
     "name": "stdout",
     "output_type": "stream",
     "text": [
      "WARNING:tensorflow:Value in checkpoint could not be found in the restored object: (root).keras_api.metrics.3.total\n"
     ]
    },
    {
     "name": "stderr",
     "output_type": "stream",
     "text": [
      "WARNING:tensorflow:Value in checkpoint could not be found in the restored object: (root).keras_api.metrics.3.total\n"
     ]
    },
    {
     "name": "stdout",
     "output_type": "stream",
     "text": [
      "WARNING:tensorflow:Value in checkpoint could not be found in the restored object: (root).keras_api.metrics.3.count\n"
     ]
    },
    {
     "name": "stderr",
     "output_type": "stream",
     "text": [
      "WARNING:tensorflow:Value in checkpoint could not be found in the restored object: (root).keras_api.metrics.3.count\n",
      "WARNING:absl:Found untraced functions such as _jit_compiled_convolution_op, _jit_compiled_convolution_op, _jit_compiled_convolution_op, _jit_compiled_convolution_op, _jit_compiled_convolution_op while saving (showing 5 of 9). These functions will not be directly callable after loading.\n"
     ]
    },
    {
     "name": "stdout",
     "output_type": "stream",
     "text": [
      "INFO:tensorflow:Assets written to: c:\\Users\\Julio\\Documents\\Projects\\audio-denoiser\\saved\\models\\MSE2_FCNN_AN.model\\assets\n"
     ]
    },
    {
     "name": "stderr",
     "output_type": "stream",
     "text": [
      "INFO:tensorflow:Assets written to: c:\\Users\\Julio\\Documents\\Projects\\audio-denoiser\\saved\\models\\MSE2_FCNN_AN.model\\assets\n"
     ]
    },
    {
     "name": "stdout",
     "output_type": "stream",
     "text": [
      "750/750 [==============================] - 970s 1s/step - loss: 0.0191 - mse: 0.0191 - mae: 0.0693 - accuracy: 9.4179e-06 - val_loss: 0.0025 - val_mse: 0.0025 - val_mae: 0.0294 - val_accuracy: 8.9031e-06\n",
      "Epoch 2/150\n",
      "750/750 [==============================] - ETA: 0s - loss: 0.0023 - mse: 0.0023 - mae: 0.0279 - accuracy: 9.5926e-06\n",
      "Epoch 2: val_loss improved from 0.00247 to 0.00242, saving model to c:\\Users\\Julio\\Documents\\Projects\\audio-denoiser\\saved\\models\\MSE2_FCNN_AN.model\n"
     ]
    },
    {
     "name": "stderr",
     "output_type": "stream",
     "text": [
      "WARNING:absl:Found untraced functions such as _jit_compiled_convolution_op, _jit_compiled_convolution_op, _jit_compiled_convolution_op, _jit_compiled_convolution_op, _jit_compiled_convolution_op while saving (showing 5 of 9). These functions will not be directly callable after loading.\n"
     ]
    },
    {
     "name": "stdout",
     "output_type": "stream",
     "text": [
      "INFO:tensorflow:Assets written to: c:\\Users\\Julio\\Documents\\Projects\\audio-denoiser\\saved\\models\\MSE2_FCNN_AN.model\\assets\n"
     ]
    },
    {
     "name": "stderr",
     "output_type": "stream",
     "text": [
      "INFO:tensorflow:Assets written to: c:\\Users\\Julio\\Documents\\Projects\\audio-denoiser\\saved\\models\\MSE2_FCNN_AN.model\\assets\n"
     ]
    },
    {
     "name": "stdout",
     "output_type": "stream",
     "text": [
      "750/750 [==============================] - 444s 592ms/step - loss: 0.0023 - mse: 0.0023 - mae: 0.0279 - accuracy: 9.5926e-06 - val_loss: 0.0024 - val_mse: 0.0024 - val_mae: 0.0282 - val_accuracy: 9.4407e-06\n",
      "Epoch 3/150\n",
      "750/750 [==============================] - ETA: 0s - loss: 0.0023 - mse: 0.0023 - mae: 0.0273 - accuracy: 9.7709e-06\n",
      "Epoch 3: val_loss improved from 0.00242 to 0.00229, saving model to c:\\Users\\Julio\\Documents\\Projects\\audio-denoiser\\saved\\models\\MSE2_FCNN_AN.model\n"
     ]
    },
    {
     "name": "stderr",
     "output_type": "stream",
     "text": [
      "WARNING:absl:Found untraced functions such as _jit_compiled_convolution_op, _jit_compiled_convolution_op, _jit_compiled_convolution_op, _jit_compiled_convolution_op, _jit_compiled_convolution_op while saving (showing 5 of 9). These functions will not be directly callable after loading.\n"
     ]
    },
    {
     "name": "stdout",
     "output_type": "stream",
     "text": [
      "INFO:tensorflow:Assets written to: c:\\Users\\Julio\\Documents\\Projects\\audio-denoiser\\saved\\models\\MSE2_FCNN_AN.model\\assets\n"
     ]
    },
    {
     "name": "stderr",
     "output_type": "stream",
     "text": [
      "INFO:tensorflow:Assets written to: c:\\Users\\Julio\\Documents\\Projects\\audio-denoiser\\saved\\models\\MSE2_FCNN_AN.model\\assets\n"
     ]
    },
    {
     "name": "stdout",
     "output_type": "stream",
     "text": [
      "750/750 [==============================] - 338s 450ms/step - loss: 0.0023 - mse: 0.0023 - mae: 0.0273 - accuracy: 9.7709e-06 - val_loss: 0.0023 - val_mse: 0.0023 - val_mae: 0.0274 - val_accuracy: 9.2337e-06\n",
      "Epoch 4/150\n",
      "750/750 [==============================] - ETA: 0s - loss: 0.0023 - mse: 0.0023 - mae: 0.0271 - accuracy: 9.9189e-06\n",
      "Epoch 4: val_loss did not improve from 0.00229\n",
      "750/750 [==============================] - 307s 409ms/step - loss: 0.0023 - mse: 0.0023 - mae: 0.0271 - accuracy: 9.9189e-06 - val_loss: 0.0025 - val_mse: 0.0025 - val_mae: 0.0282 - val_accuracy: 1.0733e-05\n",
      "Epoch 5/150\n",
      "680/750 [==========================>...] - ETA: 25s - loss: 0.0023 - mse: 0.0023 - mae: 0.0270 - accuracy: 9.5008e-06"
     ]
    }
   ],
   "source": [
    "# A larger batch size can lead to faster training, but can also result in less accurate models. A smaller batch size can lead to slower training, but can also result in more accurate models.\n",
    "# start at 64/128\n",
    "# In general, you should start with a small number of epochs (e.g. 10-20) and increase the number of epochs until the model begins to overfit the training data. \n",
    "tf.debugging.set_log_device_placement(True)\n",
    "print(tf.config.list_physical_devices('GPU'))\n",
    "print(tf.test.is_built_with_cuda())\n",
    "print(tf.test.gpu_device_name())\n",
    "\n",
    "from keras import callbacks\n",
    "import matplotlib.pyplot as plt\n",
    "import os\n",
    "SE_LOSS_LAYERS = 6 # NUMBER OF FEATURE LOSS LAYERS\n",
    "optimizer = tf.keras.optimizers.Adam(learning_rate=1e-4)\n",
    "def L1_loss(y_true, y_pred):\n",
    "    return tf.reduce_mean(tf.abs(y_pred - y_true))  \n",
    "custom_objects = tf.keras.utils.get_custom_objects()\n",
    "custom_objects['L1_loss'] = L1_loss\n",
    "model.compile(loss=tf.keras.losses.MSE, optimizer=optimizer, metrics=['mse', 'mae', 'accuracy' ])\n",
    "model_path = os.path.join(os.getcwd(),'saved','models', 'MSE2_FCNN_AN.model')\n",
    "if os.path.exists(model_path):\n",
    "    model.load_weights(model_path)\n",
    "    print('Model loaded from: ', model_path)\n",
    "checkpoint = callbacks.ModelCheckpoint(model_path, monitor='val_loss', verbose=1, save_best_only=True, save_weights_only=False,mode='min')\n",
    "stop = callbacks.EarlyStopping(monitor='val_loss', mode='min', verbose=1, patience=20)\n",
    "# callbacks=[checkpoint, stop]\n",
    "history = model.fit(train_set, epochs=150, validation_data=val_set, batch_size=128,callbacks=[checkpoint, stop],verbose=1)\n",
    "plt.plot(history.history['loss'])\n",
    "plt.plot(history.history['val_loss'])\n",
    "plt.title('model loss')\n",
    "plt.ylabel('loss')\n",
    "plt.xlabel('epoch')\n",
    "plt.legend(['train', 'test'], loc='upper left')\n",
    "plt.show()"
   ]
  },
  {
   "cell_type": "code",
   "execution_count": 13,
   "metadata": {},
   "outputs": [
    {
     "name": "stderr",
     "output_type": "stream",
     "text": [
      "WARNING:absl:Found untraced functions such as _jit_compiled_convolution_op, _jit_compiled_convolution_op, _jit_compiled_convolution_op, _jit_compiled_convolution_op, _jit_compiled_convolution_op while saving (showing 5 of 9). These functions will not be directly callable after loading.\n"
     ]
    },
    {
     "name": "stdout",
     "output_type": "stream",
     "text": [
      "INFO:tensorflow:Assets written to: c:\\Users\\Julio\\Documents\\Projects\\audio-denoiser\\saved\\models\\L1_FCNN_AN.model\\assets\n"
     ]
    },
    {
     "name": "stderr",
     "output_type": "stream",
     "text": [
      "INFO:tensorflow:Assets written to: c:\\Users\\Julio\\Documents\\Projects\\audio-denoiser\\saved\\models\\L1_FCNN_AN.model\\assets\n"
     ]
    }
   ],
   "source": [
    "# model_path = os.path.join(os.getcwd(),'saved','models', 'L1_FCNN_AN.model')\n",
    "# model.save(model_path)"
   ]
  },
  {
   "cell_type": "code",
   "execution_count": 23,
   "metadata": {},
   "outputs": [
    {
     "name": "stdout",
     "output_type": "stream",
     "text": [
      "1/1 [==============================] - 0s 82ms/step\n"
     ]
    },
    {
     "data": {
      "text/html": [
       "\n",
       "                <audio  controls=\"controls\" >\n",
       "                    <source src=\"data:audio/wav;base64,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\" type=\"audio/wav\" />\n",
       "                    Your browser does not support the audio element.\n",
       "                </audio>\n",
       "              "
      ],
      "text/plain": [
       "<IPython.lib.display.Audio object>"
      ]
     },
     "execution_count": 23,
     "metadata": {},
     "output_type": "execute_result"
    }
   ],
   "source": [
    "import librosa\n",
    "import numpy as np\n",
    "import IPython.display as ipd\n",
    "idx = 69\n",
    "demo_tensor = X[idx]\n",
    "demo_target = Y[idx]\n",
    "model_input = tf.expand_dims(demo_tensor, axis=0)\n",
    "prediction = model.predict(model_input).squeeze()\n",
    "input = demo_tensor.numpy().squeeze()\n",
    "target = demo_target.numpy().squeeze()\n",
    "import soundfile as sf\n",
    "sf.write('input.wav', input, 16000)\n",
    "sf.write('prediction.wav', prediction, 16000)\n",
    "sf.write('prediction.wav', target, 16000)\n",
    "ipd.Audio(prediction, rate=16000)"
   ]
  },
  {
   "attachments": {},
   "cell_type": "markdown",
   "metadata": {},
   "source": [
    "“To compute the loss between two waveforms, we apply a pretrained audio classification network to each waveform and compare the internal activation patterns induced in the network by the two signals” ([Germain et al., 2018, p. 1](zotero://select/library/items/A6D78SNY)) ([pdf](zotero://open-pdf/library/items/P4HPP4P3?page=1&annotation=Y3F49L4C))\n",
    "\n",
    "“The network consists of 15 convolutional layers with 3×1 kernels, batch normalization, LReLU units, and zero padding” ([Germain et al., 2018, p. 2](zotero://select/library/items/A6D78SNY)) ([pdf](zotero://open-pdf/library/items/P4HPP4P3?page=2&annotation=J3JNI54Q))\n"
   ]
  },
  {
   "cell_type": "code",
   "execution_count": null,
   "metadata": {},
   "outputs": [],
   "source": [
    "# FEATURE LOSS NETWORK\n",
    "import keras as keras\n",
    "# TODO\n",
    "# Still in the proccess of converting to keras\n",
    "# still need to train the network\n",
    "# still need to figure out how to connect the feature loss network to the main network\n",
    "n_layers=14\n",
    "training=True\n",
    "reuse=False\n",
    "# “The number of channels is doubled every 5 layers, with 32 channels in the first intermediate layer.” \n",
    "base_channels=32\n",
    "doubling_rate=5\n",
    "conv_layers = []\n",
    "norm_type=\"SBN\"\n",
    "if norm_type == \"AN\": # ADAPTIVE BATCH NORM\n",
    "    norm_fn = AdaptiveNormalization\n",
    "else: # Std BN\n",
    "    norm_fn = layers.BatchNormalization\n",
    "\n",
    "    \n",
    "# STRCUTURE OF THE FEATURE LOSS NETWORK VERY SIMILAR TO THE MAIN NETWORK\n",
    "for current_layer in range(n_layers):\n",
    "    n_channels = base_channels * (2 ** (current_layer // doubling_rate)) # UPDATE CHANNEL COUNT\n",
    "    if current_layer == 0:\n",
    "        # \"Each Layer is decimated by 2\" - just means stride of 2 in the time dimension.\n",
    "        net = layers.Conv2D(input, n_channels, kernel_size=[1, 3], activation=LeakyReLU, stride=[1, 2],\n",
    "                            name='loss_conv_%d'%current_layer, padding='SAME')\n",
    "        net = norm_fn(net)\n",
    "        conv_layers.append(net)\n",
    "    elif current_layer < n_layers - 1:\n",
    "        net = layers.Conv2D(conv_layers[-1], n_channels, kernel_size=[1, 3], activation=LeakyReLU,\n",
    "                            stride=[1, 2], name='loss_conv_%d'%current_layer, padding='SAME')\n",
    "        net = norm_fn(net)\n",
    "        conv_layers.append(net)\n",
    "    else:\n",
    "        net = layers.Conv2D(conv_layers[-1], n_channels, kernel_size=[1, 3], activation=LeakyReLU,\n",
    "                            name='loss_conv_%d'%current_layer, padding='SAME')\n",
    "        net = norm_fn(net)\n",
    "        conv_layers.append(net)\n",
    "        # TODO\n",
    "        # \"Each channel in the last layer is averaged-pooled to produce the output ferature vector.\"\n",
    "\n",
    "def FeatureLoss(target, current, loss_weights, loss_layers):\n",
    "\n",
    "    feat_current = LossNetwork(current, reuse=False, n_layers=n_layers, norm_type=norm_type)\n",
    "    \n",
    "    feat_target = LossNetwork(target, reuse=True, n_layers=n_layers, norm_type=norm_type,\n",
    "                            base_channels=base_channels, blk_channels=blk_channels)\n",
    "    \n",
    "    loss_vec = [0]\n",
    "    #“The weights λm are set to balance the contribution of each layer to the loss. They are set to the inverse of the relative values of ‖Φm(ß) − Φm(g(x; θ))‖1 after 10 training epochs. (For these first 10 epochs, the weights are set to 1.)”\n",
    "    for id in range(loss_layers):\n",
    "        loss_vec.append(loss_function(feat_current[id], feat_target[id], type=\"L1\") / loss_weights[id])\n",
    "    # b) Denoising loss function:\n",
    "    for id in range(1,loss_layers+1):\n",
    "        loss_vec[0] += loss_vec[id]\n",
    "    \n",
    "    return loss_vec\n"
   ]
  }
 ],
 "metadata": {
  "kernelspec": {
   "display_name": "Python 3.10.4 64-bit",
   "language": "python",
   "name": "python3"
  },
  "language_info": {
   "codemirror_mode": {
    "name": "ipython",
    "version": 3
   },
   "file_extension": ".py",
   "mimetype": "text/x-python",
   "name": "python",
   "nbconvert_exporter": "python",
   "pygments_lexer": "ipython3",
   "version": "3.10.4"
  },
  "orig_nbformat": 4,
  "vscode": {
   "interpreter": {
    "hash": "369f2c481f4da34e4445cda3fffd2e751bd1c4d706f27375911949ba6bb62e1c"
   }
  }
 },
 "nbformat": 4,
 "nbformat_minor": 2
}
