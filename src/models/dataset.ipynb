{
 "cells": [
  {
   "cell_type": "code",
   "execution_count": null,
   "metadata": {},
   "outputs": [],
   "source": [
    "from sklearn.model_selection import train_test_split\n",
    "import numpy as np\n",
    "import os\n",
    "import tensorflow as tf\n",
    "\n",
    "data_path = os.path.join(os.getcwd(), 'data')\n",
    "X = np.load(os.path.join(data_path, 'X_69_200.npy'), allow_pickle=True)\n",
    "Y = np.load(os.path.join(data_path, 'Y_69_200.npy'), allow_pickle=True)\n",
    "\n",
    "freq_bins = X[0].shape[0]\n",
    "min_spec_len = min([x.shape[1] for x in X])\n",
    "data_size = X.shape[0]\n",
    "print(data_size, freq_bins, min_spec_len)\n",
    "\n",
    "# X = np.reshape(X, newshape=(data_size, nfft_bins,None ))\n",
    "# for i in range(data_size):\n",
    "    # x,y = X[i] , np.copy(Y[i])\n",
    "    # X[i], Y[i] = x.resize((freq_bins, min_spec_len)), y.resize((freq_bins, min_spec_len))\n",
    "X = [tf.stack(x[:,:min_spec_len]) for x in X]\n",
    "Y = [tf.stack(y[:,:min_spec_len]) for y in Y]\n",
    "\n",
    "splits = train_test_split(X, Y, test_size=0.1, random_state=69)\n",
    "X_train, X_test, y_train, y_test = [tf.convert_to_tensor(s) for s in splits]\n",
    "for item in [X_train, X_test, y_train, y_test]:\n",
    "    print(item.shape, item.dtype, type(item))"
   ]
  }
 ],
 "metadata": {
  "kernelspec": {
   "display_name": "Python 3.10.4 64-bit",
   "language": "python",
   "name": "python3"
  },
  "language_info": {
   "name": "python",
   "version": "3.10.4"
  },
  "orig_nbformat": 4,
  "vscode": {
   "interpreter": {
    "hash": "369f2c481f4da34e4445cda3fffd2e751bd1c4d706f27375911949ba6bb62e1c"
   }
  }
 },
 "nbformat": 4,
 "nbformat_minor": 2
}
