{
 "cells": [
  {
   "cell_type": "code",
   "execution_count": null,
   "metadata": {},
   "outputs": [],
   "source": [
    "## Skeleton for future Training Dataset pipeline generator\n",
    "\n",
    "# TODO: Create split_spectrogram_frames function to split the spectrogram frames into fixed length sequences\n",
    "import os\n",
    "import soundfile as sf\n",
    "from scipy.signal import stft\n",
    "from keras.preprocessing.sequence import TimeseriesGenerator\n",
    "TARGET_SAMPLE_RATE = 16000\n",
    "TARGET_FEATURE = \"signal\"\n",
    "OUTPUT_SEQUENCES = True\n",
    "\n",
    "# Set the directory containing the clean and distorted speech files\n",
    "clean_speech_dir = 'clean_speech_files'\n",
    "distorted_speech_dir = 'distorted_speech_files'\n",
    "\n",
    "# List all the files in the clean and distorted speech directories\n",
    "clean_speech_files = os.listdir(clean_speech_dir)\n",
    "distorted_speech_files = os.listdir(distorted_speech_dir)\n",
    "\n",
    "assert len(clean_speech_files) == len(distorted_speech_files), 'The number of clean and distorted speech files must be the same.'\n",
    "\n",
    "# Loop through the clean and distorted speech files\n",
    "for clean_speech_file, distorted_speech_file in zip(clean_speech_files, distorted_speech_files):\n",
    "    assert clean_speech_file == distorted_speech_file, 'The clean and distorted speech files must have the same name and same order.'\n",
    "    # Read and load the clean and distorted audio files\n",
    "    clean_speech, _ = sf.read(os.path.join(clean_speech_dir, clean_speech_file))\n",
    "    distorted_speech, _ = sf.read(os.path.join(distorted_speech_dir, distorted_speech_file))\n",
    "    \n",
    "    \n",
    "    # Split the spectrogram frames into overlapping sequences of fixed length \n",
    "    if TARGET_FEATURE != \"stft\":\n",
    "    # Apply the STFT to the audio samples to get the spectrogram frames\n",
    "        clean_speech_frames = stft(clean_speech)\n",
    "        distorted_speech_frames = stft(clean_speech)\n",
    "        inputs_sequences = split_spectrogram_frames(distorted_speech_frames, sequence_length=128, overlap=64)\n",
    "        targets_sequences = split_spectrogram_frames(clean_speech_frames, sequence_length=128, overlap=64)\n",
    "    \n",
    "    # Create a data generator using the Timeseries\n"
   ]
  }
 ],
 "metadata": {
  "kernelspec": {
   "display_name": "Python 3.10.4 64-bit",
   "language": "python",
   "name": "python3"
  },
  "language_info": {
   "name": "python",
   "version": "3.10.4 (tags/v3.10.4:9d38120, Mar 23 2022, 23:13:41) [MSC v.1929 64 bit (AMD64)]"
  },
  "orig_nbformat": 4,
  "vscode": {
   "interpreter": {
    "hash": "369f2c481f4da34e4445cda3fffd2e751bd1c4d706f27375911949ba6bb62e1c"
   }
  }
 },
 "nbformat": 4,
 "nbformat_minor": 2
}
