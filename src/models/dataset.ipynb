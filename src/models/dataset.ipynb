{
 "cells": [
  {
   "cell_type": "code",
   "execution_count": null,
   "metadata": {},
   "outputs": [],
   "source": [
    "# from sklearn.model_selection import train_test_split\n",
    "# import numpy as np\n",
    "# import os\n",
    "# import tensorflow as tf\n",
    "\n",
    "# data_path = os.path.join(os.getcwd(), 'data')\n",
    "# X = np.load(os.path.join(data_path, 'X_69_200.npy'), allow_pickle=True)\n",
    "# Y = np.load(os.path.join(data_path, 'Y_69_200.npy'), allow_pickle=True)\n",
    "\n",
    "# freq_bins = X[0].shape[0]\n",
    "# min_spec_len = min([x.shape[1] for x in X])\n",
    "# data_size = X.shape[0]\n",
    "# print(data_size, freq_bins, min_spec_len)\n",
    "\n",
    "# # X = np.reshape(X, newshape=(data_size, nfft_bins,None ))\n",
    "# # for i in range(data_size):\n",
    "#     # x,y = X[i] , np.copy(Y[i])\n",
    "#     # X[i], Y[i] = x.resize((freq_bins, min_spec_len)), y.resize((freq_bins, min_spec_len))\n",
    "# X = [tf.stack(x[:,:min_spec_len]) for x in X]\n",
    "# Y = [tf.stack(y[:,:min_spec_len]) for y in Y]\n",
    "\n",
    "# splits = train_test_split(X, Y, test_size=0.1, random_state=69)\n",
    "# X_train, X_test, y_train, y_test = [tf.convert_to_tensor(s) for s in splits]\n",
    "# for item in [X_train, X_test, y_train, y_test]:\n",
    "#     print(item.shape, item.dtype, type(item))"
   ]
  },
  {
   "cell_type": "code",
   "execution_count": null,
   "metadata": {},
   "outputs": [],
   "source": [
    "import os\n",
    "from pydub import AudioSegment\n",
    "from scipy.signal import stft\n",
    "from keras.preprocessing.sequence import TimeseriesGenerator\n",
    "\n",
    "# Set the directory containing the clean and distorted speech files\n",
    "clean_speech_dir = 'clean_speech_files'\n",
    "distorted_speech_dir = 'distorted_speech_files'\n",
    "\n",
    "# List all the files in the clean and distorted speech directories\n",
    "clean_speech_files = os.listdir(clean_speech_dir)\n",
    "distorted_speech_files = os.listdir(distorted_speech_dir)\n",
    "\n",
    "# Loop through the clean and distorted speech files\n",
    "for clean_speech_file, distorted_speech_file in zip(clean_speech_files, distorted_speech_files):\n",
    "    # Read and load the clean and distorted audio files\n",
    "    clean_speech = AudioSegment.from_file(os.path.join(clean_speech_dir, clean_speech_file))\n",
    "    distorted_speech = AudioSegment.from_file(os.path.join(distorted_speech_dir, distorted_speech_file))\n",
    "    \n",
    "    # Convert the clean and distorted audio to a sequence of audio samples\n",
    "    clean_speech_samples = np.array(clean_speech.get_array_of_samples())\n",
    "    distorted_speech_samples = np.array(distorted_speech.get_array_of_samples())\n",
    "    \n",
    "    # Apply the STFT to the audio samples to get the spectrogram frames\n",
    "    clean_speech_frames = stft(clean_speech_samples)\n",
    "    distorted_speech_frames = stft(distorted_speech_samples)\n",
    "    \n",
    "    # Split the spectrogram frames into overlapping sequences of fixed length\n",
    "    input_sequences = split_spectrogram_frames(distorted_speech_frames, sequence_length=128, overlap=64)\n",
    "    target_sequences = split_spectrogram_frames(clean_speech_frames, sequence_length=128, overlap=64)\n",
    "    \n",
    "    # Create a data generator using the Timeseries\n"
   ]
  }
 ],
 "metadata": {
  "kernelspec": {
   "display_name": "Python 3.10.4 64-bit",
   "language": "python",
   "name": "python3"
  },
  "language_info": {
   "name": "python",
   "version": "3.10.4"
  },
  "orig_nbformat": 4,
  "vscode": {
   "interpreter": {
    "hash": "369f2c481f4da34e4445cda3fffd2e751bd1c4d706f27375911949ba6bb62e1c"
   }
  }
 },
 "nbformat": 4,
 "nbformat_minor": 2
}
