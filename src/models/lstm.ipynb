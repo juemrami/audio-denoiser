{
 "cells": [
  {
   "cell_type": "code",
   "execution_count": null,
   "metadata": {},
   "outputs": [],
   "source": [
    "# error = K.mean(K.square(K.abs(y_true-y_pred)))\n",
    "import os\n",
    "import pickle\n",
    "import numpy as np\n",
    "import tensorflow as tf\n",
    "from tensorflow import keras\n",
    "from keras import backend as K\n",
    "from keras import layers\n",
    "from keras import callbacks\n",
    "model_path = os.path.join('saved/models', 'lstm.model')\n",
    "pickle_path = os.path.join('saved/pickles', 'lstm.pickle')\n",
    "\n",
    "# def check_data():\n",
    "#     if os.path.isfile(pickle_path):\n",
    "#         print('Loading data from pickle...')\n",
    "#         with open(pickle_path, 'rb') as f:\n",
    "#             return pickle.load(f)\n",
    "\n",
    "checkpoint = callbacks.ModelCheckpoint(model_path, monitor='val_loss', verbose=1, save_best_only=True, save_weights_only=False,mode='min')"
   ]
  }
 ],
 "metadata": {
  "kernelspec": {
   "display_name": "Python 3.10.4 64-bit",
   "language": "python",
   "name": "python3"
  },
  "language_info": {
   "name": "python",
   "version": "3.10.4"
  },
  "orig_nbformat": 4,
  "vscode": {
   "interpreter": {
    "hash": "369f2c481f4da34e4445cda3fffd2e751bd1c4d706f27375911949ba6bb62e1c"
   }
  }
 },
 "nbformat": 4,
 "nbformat_minor": 2
}
