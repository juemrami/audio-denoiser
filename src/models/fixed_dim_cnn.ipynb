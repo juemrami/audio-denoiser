{
 "cells": [
  {
   "cell_type": "code",
   "execution_count": 13,
   "metadata": {},
   "outputs": [
    {
     "name": "stdout",
     "output_type": "stream",
     "text": [
      "c:\\Users\\Julio\\Documents\\Projects\\audio-denoiser\n",
      "500 513 122\n",
      "(350, 513, 122) <dtype: 'complex64'> <class 'tensorflow.python.framework.ops.EagerTensor'>\n",
      "(150, 513, 122) <dtype: 'complex64'> <class 'tensorflow.python.framework.ops.EagerTensor'>\n",
      "(350, 513, 122) <dtype: 'float32'> <class 'tensorflow.python.framework.ops.EagerTensor'>\n",
      "(150, 513, 122) <dtype: 'float32'> <class 'tensorflow.python.framework.ops.EagerTensor'>\n"
     ]
    }
   ],
   "source": [
    "from sklearn.model_selection import train_test_split\n",
    "import numpy as np\n",
    "import os\n",
    "import tensorflow as tf\n",
    "print(os.getcwd())\n",
    "\n",
    "\n",
    "data_path = os.path.join(os.getcwd(), 'data')\n",
    "X = np.load(os.path.join(data_path, 'X_70_500.npy'), allow_pickle=True)\n",
    "Y = np.load(os.path.join(data_path, 'Y_70_500.npy'), allow_pickle=True)\n",
    "testidx = 10\n",
    "noised_clip = X[testidx]\n",
    "clean_clip = Y[testidx]\n",
    "noise_clip = noised_clip - clean_clip\n",
    "\n",
    "freq_bins = X[0].shape[0]\n",
    "min_spec_len = min([x.shape[1] for x in X])\n",
    "# min_spec_len = 300\n",
    "# data_size = X.shape[0]\n",
    "# X = np.reshape(X, newshape=(data_size, nfft_bins,None ))\n",
    "print(data_size, freq_bins, min_spec_len)\n",
    "# for i in range(data_size):\n",
    "    # x,y = X[i] , np.copy(Y[i])\n",
    "    # X[i], Y[i] = x.resize((freq_bins, min_spec_len)), y.resize((freq_bins, min_spec_len))\n",
    "X = [tf.stack(x[:,:min_spec_len]) for x in X]\n",
    "\n",
    "\n",
    "# Y = [X[i] - tf.stack(y[:,:min_spec_len])  for i,y in enumerate(Y)]\n",
    "Y = [tf.stack(abs(y)[:,:min_spec_len])  for i,y in enumerate(Y)]\n",
    "\n",
    "splits = train_test_split(X, Y, test_size=0.3, random_state=69)\n",
    "X_train, X_test, y_train, y_test = [tf.convert_to_tensor(s) for s in splits]\n",
    "for item in [X_train, X_test, y_train, y_test]:\n",
    "    print(item.shape, item.dtype, type(item))\n",
    "\n"
   ]
  },
  {
   "cell_type": "code",
   "execution_count": 10,
   "metadata": {},
   "outputs": [
    {
     "name": "stdout",
     "output_type": "stream",
     "text": [
      "Model: \"model_3\"\n",
      "__________________________________________________________________________________________________\n",
      " Layer (type)                   Output Shape         Param #     Connected to                     \n",
      "==================================================================================================\n",
      " input_4 (InputLayer)           [(None, 513, 122)]   0           []                               \n",
      "                                                                                                  \n",
      " tf.expand_dims_3 (TFOpLambda)  (None, 513, 122, 1)  0           ['input_4[0][0]']                \n",
      "                                                                                                  \n",
      " batch_normalization_6 (BatchNo  (None, 513, 122, 1)  2052       ['tf.expand_dims_3[0][0]']       \n",
      " rmalization)                                                                                     \n",
      "                                                                                                  \n",
      " conv2d_12 (Conv2D)             (None, 513, 122, 16  176         ['batch_normalization_6[0][0]']  \n",
      "                                )                                                                 \n",
      "                                                                                                  \n",
      " dropout_9 (Dropout)            (None, 513, 122, 16  0           ['conv2d_12[0][0]']              \n",
      "                                )                                                                 \n",
      "                                                                                                  \n",
      " conv2d_13 (Conv2D)             (None, 513, 122, 32  14368       ['dropout_9[0][0]']              \n",
      "                                )                                                                 \n",
      "                                                                                                  \n",
      " dropout_10 (Dropout)           (None, 513, 122, 32  0           ['conv2d_13[0][0]']              \n",
      "                                )                                                                 \n",
      "                                                                                                  \n",
      " conv2d_14 (Conv2D)             (None, 513, 122, 16  27664       ['dropout_10[0][0]']             \n",
      "                                )                                                                 \n",
      "                                                                                                  \n",
      " dropout_11 (Dropout)           (None, 513, 122, 16  0           ['conv2d_14[0][0]']              \n",
      "                                )                                                                 \n",
      "                                                                                                  \n",
      " batch_normalization_7 (BatchNo  (None, 513, 122, 16  2052       ['dropout_11[0][0]']             \n",
      " rmalization)                   )                                                                 \n",
      "                                                                                                  \n",
      " conv2d_15 (Conv2D)             (None, 513, 122, 1)  17          ['batch_normalization_7[0][0]']  \n",
      "                                                                                                  \n",
      " tf.compat.v1.squeeze_3 (TFOpLa  (None, 513, 122)    0           ['conv2d_15[0][0]']              \n",
      " mbda)                                                                                            \n",
      "                                                                                                  \n",
      " tf.math.imag_3 (TFOpLambda)    (None, 513, 122)     0           ['input_4[0][0]']                \n",
      "                                                                                                  \n",
      " tf.dtypes.complex_1 (TFOpLambd  (None, 513, 122)    0           ['tf.compat.v1.squeeze_3[0][0]', \n",
      " a)                                                               'tf.math.imag_3[0][0]']         \n",
      "                                                                                                  \n",
      "==================================================================================================\n",
      "Total params: 46,329\n",
      "Trainable params: 44,277\n",
      "Non-trainable params: 2,052\n",
      "__________________________________________________________________________________________________\n"
     ]
    }
   ],
   "source": [
    "import matplotlib.pyplot as plt\n",
    "import tensorflow as tf\n",
    "from keras.models import Sequential\n",
    "from keras.layers import Dense, BatchNormalizationV2, GlobalMaxPooling2D\n",
    "from keras.layers import Flatten, Dropout, AveragePooling2D\n",
    "from keras.layers import Conv2D, MaxPooling2D, Reshape\n",
    "from keras.callbacks import ModelCheckpoint, EarlyStopping\n",
    "from keras.optimizers import adam_v2\n",
    "from keras import layers\n",
    "import keras\n",
    "\n",
    "# import rms prop from keras\n",
    "# A Keras tensor is a symbolic tensor-like object, which we augment with certain attributes that allow us to build a Keras model just by knowing the inputs and outputs of the model.\n",
    "es = EarlyStopping(monitor='val_loss', mode='min', verbose=1, patience=5)\n",
    "opt = adam_v2.Adam(learning_rate=0.0007)\n",
    "\n",
    "# inputs are 2d arrays of shape [nfft_bins, time], time is a varied\n",
    "lookahead = 4\n",
    "frequency_bins = freq_bins\n",
    "data_shape = (frequency_bins, min_spec_len)\n",
    "model_input = layers.Input(shape=(frequency_bins, min_spec_len), dtype=np.complex64)\n",
    "# add channel dimension\n",
    "x_imag = tf.math.imag(model_input)\n",
    "# print(x_imag.shape)\n",
    "x = tf.abs(model_input)\n",
    "x = model_input\n",
    "x = tf.expand_dims(x, axis=-1)\n",
    "x = layers.BatchNormalization(axis=[1])(x)\n",
    "\n",
    "# frequency_bins//32,lookahead\n",
    "x = layers.Conv2D(filters=16, kernel_size=(2,5),  padding='same', activation=keras.activations.leaky_relu)(x)\n",
    "x = layers.Dropout(0.2)(x)\n",
    "\n",
    "x = layers.Conv2D(filters=32, kernel_size=(4,7), padding='same', activation=keras.activations.leaky_relu)(x)\n",
    "x = layers.Dropout(0.2)(x)\n",
    "\n",
    "x = layers.Conv2D(filters=16, kernel_size=(6,9),  padding='same', activation=keras.activations.leaky_relu)(x)\n",
    "x = layers.Dropout(0.2)(x)\n",
    "\n",
    "# x = layers.Conv2D(filters=4, kernel_size=(frequency_bins//16,1),  padding='same', activation='relu')(x)\n",
    "# x = layers.Dropout(0.2)(x)\n",
    "\n",
    "x = layers.BatchNormalization(axis=[1])(x)\n",
    "x = layers.Conv2D(filters=1, kernel_size=(1,1),  padding='same', activation='tanh')(x)\n",
    "\n",
    "x = tf.squeeze(x, axis=-1)\n",
    "out = tf.complex(x, x_imag)\n",
    "# out = x\n",
    "model = keras.Model(inputs=model_input, outputs=out)\n",
    "model.summary()\n",
    "model.compile(loss=keras.losses.MSE, optimizer='adam', metrics=['mae'])\n",
    "\n",
    "# model.add(GlobalMaxPooling2D())\n",
    "# model.add(Flatten())\n"
   ]
  },
  {
   "cell_type": "code",
   "execution_count": 11,
   "metadata": {},
   "outputs": [
    {
     "name": "stdout",
     "output_type": "stream",
     "text": [
      "[PhysicalDevice(name='/physical_device:GPU:0', device_type='GPU')]\n",
      "True\n",
      "/device:GPU:0\n",
      "Epoch 1/50\n",
      "9/9 [==============================] - 7s 761ms/step - loss: 5.0700 - mae: 0.5123 - val_loss: 4.5531 - val_mae: 0.1833\n",
      "Epoch 2/50\n",
      "9/9 [==============================] - 7s 744ms/step - loss: 4.9391 - mae: 0.3421 - val_loss: 4.5506 - val_mae: 0.1938\n",
      "Epoch 3/50\n",
      "9/9 [==============================] - 7s 745ms/step - loss: 4.9034 - mae: 0.2803 - val_loss: 4.5560 - val_mae: 0.2059\n",
      "Epoch 4/50\n",
      "9/9 [==============================] - 7s 752ms/step - loss: 4.8848 - mae: 0.2660 - val_loss: 4.5575 - val_mae: 0.2275\n",
      "Epoch 5/50\n",
      "9/9 [==============================] - 7s 734ms/step - loss: 4.8687 - mae: 0.2565 - val_loss: 4.5692 - val_mae: 0.2478\n",
      "Epoch 6/50\n",
      "9/9 [==============================] - 7s 746ms/step - loss: 4.8545 - mae: 0.2505 - val_loss: 4.5702 - val_mae: 0.2557\n",
      "Epoch 7/50\n",
      "9/9 [==============================] - 6s 703ms/step - loss: 4.8416 - mae: 0.2443 - val_loss: 4.5613 - val_mae: 0.2570\n",
      "Epoch 7: early stopping\n"
     ]
    },
    {
     "data": {
      "image/png": "[encoded data removed]",
      "text/plain": [
       "<Figure size 640x480 with 1 Axes>"
      ]
     },
     "metadata": {},
     "output_type": "display_data"
    }
   ],
   "source": [
    "tf.debugging.set_log_device_placement(True)\n",
    "print(tf.config.list_physical_devices('GPU'))\n",
    "print(tf.test.is_built_with_cuda())\n",
    "print(tf.test.gpu_device_name())\n",
    "# print(tf.test.is_gpu_available(cuda_only=True, min_cuda_compute_capability=None))\n",
    "cnnhistory=model.fit(X_train, y_train, validation_data=(X_test, y_test),batch_size=40, callbacks=[es],epochs=50, verbose=1)\n",
    "# plt.figure(figsize=(12, 4))\n",
    "# plt.subplot(1, 2, 1)\n",
    "plt.plot(cnnhistory.history['loss'])\n",
    "plt.plot(cnnhistory.history['val_loss'])\n",
    "plt.title('model loss')\n",
    "plt.ylabel('loss')\n",
    "plt.xlabel('epoch')\n",
    "plt.legend(['train', 'test'], loc='upper left')\n",
    "plt.show()\n",
    "# plt.subplot(1, 2, 2)\n",
    "# plt.plot(cnnhistory.history['accuracy'])\n",
    "# plt.plot(cnnhistory.history['val_accuracy'])\n",
    "# plt.title('model accuracy')\n",
    "# plt.ylabel('accuracy')\n",
    "# plt.xlabel('epoch')\n",
    "# plt.legend(['train', 'test'], loc='upper left')\n",
    "# plt.show()\n"
   ]
  },
  {
   "cell_type": "code",
   "execution_count": null,
   "metadata": {},
   "outputs": [],
   "source": [
    "import librosa\n",
    "import librosa.display\n",
    "\n",
    "test_sample = X_test[testidx]\n",
    "true_sample = y_test[testidx]\n",
    "print(test_sample.shape)\n",
    "test_Result = model.predict(tf.expand_dims(test_sample, axis=0))\n",
    "np.squeeze(test_Result)\n",
    "# test_Result.shape\n",
    "plt.figure(figsize=(12, 4))\n",
    "plt.subplot(1, 3, 1)\n",
    "plt.title('Noisy Speech Segment')\n",
    "librosa.display.specshow(librosa.amplitude_to_db(abs(np.squeeze(test_sample)), ref=np.max), y_axis='log', x_axis='time')\n",
    "plt.subplot(1, 3, 2)\n",
    "plt.title('Estimated Clean Speech')\n",
    "librosa.display.specshow(librosa.amplitude_to_db(abs(np.squeeze(test_Result)), ref=np.max), y_axis='log', x_axis='time')\n",
    "plt.subplot(1, 3, 3)\n",
    "plt.title('True Clean Speech')\n",
    "librosa.display.specshow(librosa.amplitude_to_db(abs(np.squeeze(true_sample)), ref=np.max), y_axis='log', x_axis='time')\n"
   ]
  },
  {
   "cell_type": "code",
   "execution_count": null,
   "metadata": {},
   "outputs": [],
   "source": []
  },
  {
   "cell_type": "code",
   "execution_count": null,
   "metadata": {},
   "outputs": [],
   "source": [
    "# librosa.istft(np.squeeze(test_Result))\n",
    "import IPython.display as ipd\n",
    "ipd.Audio(librosa.istft(test_Result, n_fft= 1024, hop_length=int(1024/2)), rate=44100)"
   ]
  }
 ],
 "metadata": {
  "kernelspec": {
   "display_name": "Python 3.10.4 64-bit",
   "language": "python",
   "name": "python3"
  },
  "language_info": {
   "codemirror_mode": {
    "name": "ipython",
    "version": 3
   },
   "file_extension": ".py",
   "mimetype": "text/x-python",
   "name": "python",
   "nbconvert_exporter": "python",
   "pygments_lexer": "ipython3",
   "version": "3.10.4 (tags/v3.10.4:9d38120, Mar 23 2022, 23:13:41) [MSC v.1929 64 bit (AMD64)]"
  },
  "orig_nbformat": 4,
  "vscode": {
   "interpreter": {
    "hash": "369f2c481f4da34e4445cda3fffd2e751bd1c4d706f27375911949ba6bb62e1c"
   }
  }
 },
 "nbformat": 4,
 "nbformat_minor": 2
}
