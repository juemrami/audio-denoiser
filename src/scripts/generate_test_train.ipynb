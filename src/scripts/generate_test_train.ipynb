{
 "cells": [
  {
   "cell_type": "code",
   "execution_count": 38,
   "metadata": {},
   "outputs": [],
   "source": [
    "import numpy as np\n",
    "import os\n",
    "import librosa\n",
    "import IPython.display as ipd\n",
    "\n",
    "# throw error if files exists\n",
    "\n",
    "\n",
    "raw_data_dir = 'E:\\dataset'\n",
    "pwd = os.getcwd()\n",
    "seed = 69\n",
    "limit = 200\n",
    "\n",
    "# stft params\n",
    "sr = 44100\n",
    "n_fft = 1024\n",
    "h = int(n_fft/2)\n",
    "# direcoties\n",
    "noised_data_dir = os.path.join(raw_data_dir, 'noisyreverb')\n",
    "clean_data_dir = os.path.join(raw_data_dir , 'clean')\n",
    "# print(noised_data_dir)\n",
    "# data = np.empty(shape=(100,2),dtype=str)\n",
    "selected_files = {}\n",
    "np.random.seed(seed)\n",
    "while len(selected_files) < limit:\n",
    "    # collect 100 random unique files from noisyreverb\n",
    "    # print(clean_data_dir.)\n",
    "    max = len(os.listdir(noised_data_dir))\n",
    "    rand_index = np.random.randint(0,max)\n",
    "    while rand_index in selected_files:\n",
    "        rand_index = np.random.randint(0,max)\n",
    "    random_file = os.listdir(noised_data_dir)[rand_index]\n",
    "    assert random_file in os.listdir(clean_data_dir)\n",
    "    selected_files[rand_index] = random_file\n",
    "# print(selected_files.values())\n",
    "wav_files = list(selected_files.values())\n",
    "X = np.empty(shape=(len(wav_files)),dtype=object)\n",
    "Y = np.empty(shape=(len(wav_files)),dtype=object)\n",
    "# print(wav_files)\n",
    "for n, file_name in enumerate(wav_files):\n",
    "    clean_file = os.path.join(clean_data_dir, file_name)\n",
    "    noise_file = os.path.join(noised_data_dir, file_name)\n",
    "    clean_signal, _ = librosa.load(clean_file, sr=sr)\n",
    "    noise_signal, _ = librosa.load(noise_file, sr=sr)\n",
    "    assert clean_signal.shape == noise_signal.shape\n",
    "    clean_spec = librosa.stft(clean_signal, n_fft=n_fft, hop_length=h)\n",
    "    noised_spec = librosa.stft(noise_signal, n_fft=n_fft, hop_length=h)\n",
    "    assert clean_spec.shape == noised_spec.shape\n",
    "    X[n] = noised_spec\n",
    "    # print(X[n].shape)\n",
    "    Y[n] = clean_spec\n",
    "    # print(Y[n].shape)\n",
    "    # break\n",
    "np.save(f'X_{seed}_{limit}.npy', X)\n",
    "np.save(f'Y_{seed}_{limit}.npy', Y)\n",
    "    "
   ]
  },
  {
   "cell_type": "code",
   "execution_count": 6,
   "metadata": {},
   "outputs": [
    {
     "name": "stdout",
     "output_type": "stream",
     "text": [
      "[376, 240, 232, 387, 321, 225, 305, 302, 223, 399, 345, 372, 363, 363, 229, 384, 240, 286, 374, 390, 351, 340, 223, 308, 268, 278, 257, 296, 291, 337, 277, 202, 244, 283, 383, 213, 291, 358, 394, 291, 268, 360, 336, 326, 284, 235, 259, 273, 312, 341, 342, 301, 259, 395, 237, 309, 203, 285, 328, 385, 296, 288, 361, 226, 276, 360, 295, 277, 269, 361, 355, 286, 310, 351, 361, 349, 234, 314, 232, 314, 305, 209, 203, 200, 352, 295, 312, 321, 242, 382, 251, 361, 232, 224, 361, 393, 312, 232, 381, 202, 382, 377, 298, 273, 333, 206, 276, 211, 326, 391, 221, 353, 326, 245, 391, 339, 263, 343, 394, 277, 329, 286, 362, 200, 333, 238, 340, 301, 314, 275, 225, 241, 233, 210, 335, 349, 373, 234, 235, 269, 274, 320, 335, 213, 282, 248, 203, 344, 297, 295, 249, 272, 204, 201, 232, 211, 342, 346, 260, 296, 329, 269, 229, 273, 366, 213, 340, 386, 208, 290, 306, 375, 394, 272, 331, 240, 318, 304, 267, 359, 338, 347, 265, 279, 265, 232, 334, 203, 254, 337, 279, 386, 237, 296, 340, 223, 360, 292, 385, 325]\n"
     ]
    }
   ],
   "source": [
    "import numpy as np\n",
    "samples = 200\n",
    "dim_1 = 513\n",
    "X = np.empty(shape=(200,), dtype=object)\n",
    "for i in range(200):\n",
    "    X[i] = np.random.rand(dim_1, np.random.randint(200,400))+1j\n",
    "    # print(X[i].dtype)\n",
    "    \n",
    "# grab the shape of the first sample\n",
    "# grab the size of the 2nd dimension of each sample and store it in a list\n",
    "rowbreaks = [x.shape[1] for x in X]\n"
   ]
  },
  {
   "cell_type": "code",
   "execution_count": 79,
   "metadata": {},
   "outputs": [
    {
     "ename": "ValueError",
     "evalue": "Failed to convert a NumPy array to a Tensor (Unsupported object type numpy.ndarray).",
     "output_type": "error",
     "traceback": [
      "\u001b[1;31m---------------------------------------------------------------------------\u001b[0m",
      "\u001b[1;31mValueError\u001b[0m                                Traceback (most recent call last)",
      "Cell \u001b[1;32mIn [79], line 2\u001b[0m\n\u001b[0;32m      1\u001b[0m \u001b[39mimport\u001b[39;00m \u001b[39mtensorflow\u001b[39;00m \u001b[39mas\u001b[39;00m \u001b[39mtf\u001b[39;00m\n\u001b[1;32m----> 2\u001b[0m Xrag \u001b[39m=\u001b[39m tf\u001b[39m.\u001b[39;49mRaggedTensor\u001b[39m.\u001b[39;49mfrom_uniform_row_length(X, uniform_row_length\u001b[39m=\u001b[39;49m\u001b[39m513\u001b[39;49m)\n\u001b[0;32m      3\u001b[0m \u001b[39m# Xrag.shape\u001b[39;00m\n\u001b[0;32m      4\u001b[0m \u001b[39mfor\u001b[39;00m i,x \u001b[39min\u001b[39;00m \u001b[39menumerate\u001b[39m(Xrag):\n",
      "File \u001b[1;32mc:\\Python310\\lib\\site-packages\\tensorflow\\python\\util\\traceback_utils.py:153\u001b[0m, in \u001b[0;36mfilter_traceback.<locals>.error_handler\u001b[1;34m(*args, **kwargs)\u001b[0m\n\u001b[0;32m    151\u001b[0m \u001b[39mexcept\u001b[39;00m \u001b[39mException\u001b[39;00m \u001b[39mas\u001b[39;00m e:\n\u001b[0;32m    152\u001b[0m   filtered_tb \u001b[39m=\u001b[39m _process_traceback_frames(e\u001b[39m.\u001b[39m__traceback__)\n\u001b[1;32m--> 153\u001b[0m   \u001b[39mraise\u001b[39;00m e\u001b[39m.\u001b[39mwith_traceback(filtered_tb) \u001b[39mfrom\u001b[39;00m \u001b[39mNone\u001b[39m\n\u001b[0;32m    154\u001b[0m \u001b[39mfinally\u001b[39;00m:\n\u001b[0;32m    155\u001b[0m   \u001b[39mdel\u001b[39;00m filtered_tb\n",
      "File \u001b[1;32mc:\\Python310\\lib\\site-packages\\tensorflow\\python\\framework\\constant_op.py:102\u001b[0m, in \u001b[0;36mconvert_to_eager_tensor\u001b[1;34m(value, ctx, dtype)\u001b[0m\n\u001b[0;32m    100\u001b[0m     dtype \u001b[39m=\u001b[39m dtypes\u001b[39m.\u001b[39mas_dtype(dtype)\u001b[39m.\u001b[39mas_datatype_enum\n\u001b[0;32m    101\u001b[0m ctx\u001b[39m.\u001b[39mensure_initialized()\n\u001b[1;32m--> 102\u001b[0m \u001b[39mreturn\u001b[39;00m ops\u001b[39m.\u001b[39;49mEagerTensor(value, ctx\u001b[39m.\u001b[39;49mdevice_name, dtype)\n",
      "\u001b[1;31mValueError\u001b[0m: Failed to convert a NumPy array to a Tensor (Unsupported object type numpy.ndarray)."
     ]
    },
    {
     "ename": "",
     "evalue": "",
     "output_type": "error",
     "traceback": [
      "\u001b[1;31mThe Kernel crashed while executing code in the the current cell or a previous cell. Please review the code in the cell(s) to identify a possible cause of the failure. Click <a href='https://aka.ms/vscodeJupyterKernelCrash'>here</a> for more info. View Jupyter <a href='command:jupyter.viewOutput'>log</a> for further details."
     ]
    }
   ],
   "source": [
    "import tensorflow as tf\n",
    "Xrag = tf.RaggedTensor.from_uniform_row_length(X, uniform_row_length=513)\n",
    "# Xrag.shape\n",
    "for i,x in enumerate(Xrag):\n",
    "    print(x.shape, X[i].shape)"
   ]
  },
  {
   "cell_type": "code",
   "execution_count": 66,
   "metadata": {},
   "outputs": [
    {
     "ename": "InvalidArgumentError",
     "evalue": "{{function_node __wrapped__ConcatV2_N_200_device_/job:localhost/replica:0/task:0/device:GPU:0}} ConcatOp : Dimension 1 in both shapes must be equal: shape[0] = [513,376] vs. shape[1] = [513,240] [Op:ConcatV2] name: concat",
     "output_type": "error",
     "traceback": [
      "\u001b[1;31m---------------------------------------------------------------------------\u001b[0m",
      "\u001b[1;31mInvalidArgumentError\u001b[0m                      Traceback (most recent call last)",
      "Cell \u001b[1;32mIn [66], line 1\u001b[0m\n\u001b[1;32m----> 1\u001b[0m xr \u001b[39m=\u001b[39m tf\u001b[39m.\u001b[39;49mragged\u001b[39m.\u001b[39;49mstack(Xrag, axis\u001b[39m=\u001b[39;49m\u001b[39m0\u001b[39;49m)\n",
      "File \u001b[1;32mc:\\Python310\\lib\\site-packages\\tensorflow\\python\\util\\traceback_utils.py:153\u001b[0m, in \u001b[0;36mfilter_traceback.<locals>.error_handler\u001b[1;34m(*args, **kwargs)\u001b[0m\n\u001b[0;32m    151\u001b[0m \u001b[39mexcept\u001b[39;00m \u001b[39mException\u001b[39;00m \u001b[39mas\u001b[39;00m e:\n\u001b[0;32m    152\u001b[0m   filtered_tb \u001b[39m=\u001b[39m _process_traceback_frames(e\u001b[39m.\u001b[39m__traceback__)\n\u001b[1;32m--> 153\u001b[0m   \u001b[39mraise\u001b[39;00m e\u001b[39m.\u001b[39mwith_traceback(filtered_tb) \u001b[39mfrom\u001b[39;00m \u001b[39mNone\u001b[39m\n\u001b[0;32m    154\u001b[0m \u001b[39mfinally\u001b[39;00m:\n\u001b[0;32m    155\u001b[0m   \u001b[39mdel\u001b[39;00m filtered_tb\n",
      "File \u001b[1;32mc:\\Python310\\lib\\site-packages\\tensorflow\\python\\framework\\ops.py:7209\u001b[0m, in \u001b[0;36mraise_from_not_ok_status\u001b[1;34m(e, name)\u001b[0m\n\u001b[0;32m   7207\u001b[0m \u001b[39mdef\u001b[39;00m \u001b[39mraise_from_not_ok_status\u001b[39m(e, name):\n\u001b[0;32m   7208\u001b[0m   e\u001b[39m.\u001b[39mmessage \u001b[39m+\u001b[39m\u001b[39m=\u001b[39m (\u001b[39m\"\u001b[39m\u001b[39m name: \u001b[39m\u001b[39m\"\u001b[39m \u001b[39m+\u001b[39m name \u001b[39mif\u001b[39;00m name \u001b[39mis\u001b[39;00m \u001b[39mnot\u001b[39;00m \u001b[39mNone\u001b[39;00m \u001b[39melse\u001b[39;00m \u001b[39m\"\u001b[39m\u001b[39m\"\u001b[39m)\n\u001b[1;32m-> 7209\u001b[0m   \u001b[39mraise\u001b[39;00m core\u001b[39m.\u001b[39m_status_to_exception(e) \u001b[39mfrom\u001b[39;00m \u001b[39mNone\u001b[39m\n",
      "\u001b[1;31mInvalidArgumentError\u001b[0m: {{function_node __wrapped__ConcatV2_N_200_device_/job:localhost/replica:0/task:0/device:GPU:0}} ConcatOp : Dimension 1 in both shapes must be equal: shape[0] = [513,376] vs. shape[1] = [513,240] [Op:ConcatV2] name: concat"
     ]
    }
   ],
   "source": [
    "xr = tf.ragged.stack(Xrag, axis=0)"
   ]
  },
  {
   "cell_type": "code",
   "execution_count": 51,
   "metadata": {},
   "outputs": [
    {
     "data": {
      "text/plain": [
       "TensorShape([200, None, None])"
      ]
     },
     "execution_count": 51,
     "metadata": {},
     "output_type": "execute_result"
    }
   ],
   "source": [
    "Xrag.shape"
   ]
  }
 ],
 "metadata": {
  "kernelspec": {
   "display_name": "Python 3.10.4 64-bit",
   "language": "python",
   "name": "python3"
  },
  "language_info": {
   "codemirror_mode": {
    "name": "ipython",
    "version": 3
   },
   "file_extension": ".py",
   "mimetype": "text/x-python",
   "name": "python",
   "nbconvert_exporter": "python",
   "pygments_lexer": "ipython3",
   "version": "3.10.4"
  },
  "orig_nbformat": 4,
  "vscode": {
   "interpreter": {
    "hash": "369f2c481f4da34e4445cda3fffd2e751bd1c4d706f27375911949ba6bb62e1c"
   }
  }
 },
 "nbformat": 4,
 "nbformat_minor": 2
}
