{
 "cells": [
  {
   "cell_type": "code",
   "execution_count": 3,
   "metadata": {},
   "outputs": [],
   "source": [
    "import numpy as np\n",
    "import os\n",
    "import librosa\n",
    "import IPython.display as ipd\n",
    "from scipy import stats\n",
    "\n",
    "raw_data_dir = 'E:\\dataset'\n",
    "pwd = os.getcwd()\n",
    "seed = 100 # random seed\n",
    "limit = 1000 # number data samples to be generated\n",
    "sr = 16000 # sample rate\n",
    "max_duration = 2.25 # seconds\n",
    "# directories\n",
    "noised_data_dir = os.path.join(raw_data_dir, 'noisy')\n",
    "clean_data_dir = os.path.join(raw_data_dir , 'clean')\n",
    "\n",
    "# Generate random files to be used for training\n",
    "selected_files = {}\n",
    "np.random.seed(seed)\n",
    "while len(selected_files) < limit:\n",
    "    # collect `limit` random unique files from noisyreverb\n",
    "    max = len(os.listdir(noised_data_dir))\n",
    "    rand_index = np.random.randint(0,max)\n",
    "\n",
    "    while rand_index in selected_files:\n",
    "        rand_index = np.random.randint(0,max)\n",
    "        \n",
    "    random_file = os.listdir(noised_data_dir)[rand_index]\n",
    "    assert random_file in os.listdir(clean_data_dir)\n",
    "    selected_files[rand_index] = random_file\n",
    "wav_files = list(selected_files.values())\n",
    "X = np.empty(shape=(len(wav_files)),dtype=object)\n",
    "Y = np.empty(shape=(len(wav_files)),dtype=object)\n",
    "# print(wav_files)\n",
    "test = []\n",
    "\n",
    "for n, file_name in enumerate(wav_files):\n",
    "    clean_file = os.path.join(clean_data_dir, file_name)\n",
    "    noise_file = os.path.join(noised_data_dir, file_name)\n",
    "    clean_signal, _ = librosa.load(clean_file, sr=sr)\n",
    "    noise_signal, _ = librosa.load(noise_file, sr=sr)\n",
    "    assert clean_signal.shape == noise_signal.shape\n",
    "    # clean_spec = librosa.stft(clean_signal, n_fft=n_fft, hop_length=h)\n",
    "    # noised_spec = librosa.stft(noise_signal, n_fft=n_fft, hop_length=h)\n",
    "    # assert clean_spec.shape == noised_spec.shape\n",
    "    max_samples = int(max_duration*sr)\n",
    "    X[n] = noise_signal[0:max_samples]\n",
    "    Y[n] = clean_signal[0:max_samples]\n",
    "    assert X[n].shape == Y[n].shape\n",
    "np.save(f'data\\inputs_{seed}_{limit}_signal.npy', X)\n",
    "np.save(f'data\\\\targets_{seed}_{limit}_signal.npy', Y)"
   ]
  }
 ],
 "metadata": {
  "kernelspec": {
   "display_name": "Python 3.10.4 64-bit",
   "language": "python",
   "name": "python3"
  },
  "language_info": {
   "codemirror_mode": {
    "name": "ipython",
    "version": 3
   },
   "file_extension": ".py",
   "mimetype": "text/x-python",
   "name": "python",
   "nbconvert_exporter": "python",
   "pygments_lexer": "ipython3",
   "version": "3.10.4 (tags/v3.10.4:9d38120, Mar 23 2022, 23:13:41) [MSC v.1929 64 bit (AMD64)]"
  },
  "orig_nbformat": 4,
  "vscode": {
   "interpreter": {
    "hash": "369f2c481f4da34e4445cda3fffd2e751bd1c4d706f27375911949ba6bb62e1c"
   }
  }
 },
 "nbformat": 4,
 "nbformat_minor": 2
}
